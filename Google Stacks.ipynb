{
 "cells": [
  {
   "cell_type": "code",
   "execution_count": 35,
   "id": "1fecb81d",
   "metadata": {},
   "outputs": [],
   "source": [
    "import pandas as pd\n",
    "import numpy as np\n",
    "import seaborn as sns\n",
    "import matplotlib.pyplot as plt\n",
    "import tensorflow as tf\n",
    "\n",
    "from sklearn.model_selection import train_test_split,TimeSeriesSplit,RandomizedSearchCV,GridSearchCV\n",
    "from sklearn.metrics import r2_score,mean_absolute_error,mean_squared_error\n",
    "from sklearn.linear_model import LinearRegression\n",
    "from sklearn.ensemble import RandomForestRegressor\n",
    "from sklearn.tree import DecisionTreeRegressor\n",
    "from sklearn.preprocessing import StandardScaler,MinMaxScaler\n",
    "\n",
    "from xgboost import XGBRegressor\n",
    "\n",
    "from tensorflow import keras\n",
    "from keras.layers import LSTM,Dense,Dropout\n",
    "from keras.models import Sequential\n",
    "\n"
   ]
  },
  {
   "cell_type": "code",
   "execution_count": 65,
   "id": "33441126",
   "metadata": {},
   "outputs": [
    {
     "data": {
      "text/html": [
       "<div>\n",
       "<style scoped>\n",
       "    .dataframe tbody tr th:only-of-type {\n",
       "        vertical-align: middle;\n",
       "    }\n",
       "\n",
       "    .dataframe tbody tr th {\n",
       "        vertical-align: top;\n",
       "    }\n",
       "\n",
       "    .dataframe thead th {\n",
       "        text-align: right;\n",
       "    }\n",
       "</style>\n",
       "<table border=\"1\" class=\"dataframe\">\n",
       "  <thead>\n",
       "    <tr style=\"text-align: right;\">\n",
       "      <th></th>\n",
       "      <th>Date</th>\n",
       "      <th>Open</th>\n",
       "      <th>High</th>\n",
       "      <th>Low</th>\n",
       "      <th>Close</th>\n",
       "      <th>Volume</th>\n",
       "    </tr>\n",
       "  </thead>\n",
       "  <tbody>\n",
       "    <tr>\n",
       "      <th>0</th>\n",
       "      <td>1/3/2012</td>\n",
       "      <td>325.25</td>\n",
       "      <td>332.83</td>\n",
       "      <td>324.97</td>\n",
       "      <td>663.59</td>\n",
       "      <td>7,380,500</td>\n",
       "    </tr>\n",
       "    <tr>\n",
       "      <th>1</th>\n",
       "      <td>1/4/2012</td>\n",
       "      <td>331.27</td>\n",
       "      <td>333.87</td>\n",
       "      <td>329.08</td>\n",
       "      <td>666.45</td>\n",
       "      <td>5,749,400</td>\n",
       "    </tr>\n",
       "    <tr>\n",
       "      <th>2</th>\n",
       "      <td>1/5/2012</td>\n",
       "      <td>329.83</td>\n",
       "      <td>330.75</td>\n",
       "      <td>326.89</td>\n",
       "      <td>657.21</td>\n",
       "      <td>6,590,300</td>\n",
       "    </tr>\n",
       "    <tr>\n",
       "      <th>3</th>\n",
       "      <td>1/6/2012</td>\n",
       "      <td>328.34</td>\n",
       "      <td>328.77</td>\n",
       "      <td>323.68</td>\n",
       "      <td>648.24</td>\n",
       "      <td>5,405,900</td>\n",
       "    </tr>\n",
       "    <tr>\n",
       "      <th>4</th>\n",
       "      <td>1/9/2012</td>\n",
       "      <td>322.04</td>\n",
       "      <td>322.29</td>\n",
       "      <td>309.46</td>\n",
       "      <td>620.76</td>\n",
       "      <td>11,688,800</td>\n",
       "    </tr>\n",
       "  </tbody>\n",
       "</table>\n",
       "</div>"
      ],
      "text/plain": [
       "       Date    Open    High     Low   Close      Volume\n",
       "0  1/3/2012  325.25  332.83  324.97  663.59   7,380,500\n",
       "1  1/4/2012  331.27  333.87  329.08  666.45   5,749,400\n",
       "2  1/5/2012  329.83  330.75  326.89  657.21   6,590,300\n",
       "3  1/6/2012  328.34  328.77  323.68  648.24   5,405,900\n",
       "4  1/9/2012  322.04  322.29  309.46  620.76  11,688,800"
      ]
     },
     "execution_count": 65,
     "metadata": {},
     "output_type": "execute_result"
    }
   ],
   "source": [
    "data = pd.read_csv('Google_Stock_Price_Train.csv')\n",
    "data.head()"
   ]
  },
  {
   "cell_type": "code",
   "execution_count": 66,
   "id": "500449b4",
   "metadata": {},
   "outputs": [
    {
     "data": {
      "text/plain": [
       "array([325.25, 331.27, 329.83, ..., 793.7 , 783.33, 782.75])"
      ]
     },
     "execution_count": 66,
     "metadata": {},
     "output_type": "execute_result"
    }
   ],
   "source": [
    "data = data['Open'].values\n",
    "data"
   ]
  },
  {
   "cell_type": "code",
   "execution_count": 67,
   "id": "ce4d77bc",
   "metadata": {},
   "outputs": [
    {
     "data": {
      "text/plain": [
       "array([[325.25],\n",
       "       [331.27],\n",
       "       [329.83],\n",
       "       ...,\n",
       "       [793.7 ],\n",
       "       [783.33],\n",
       "       [782.75]])"
      ]
     },
     "execution_count": 67,
     "metadata": {},
     "output_type": "execute_result"
    }
   ],
   "source": [
    "data = data.reshape(-1,1)\n",
    "data"
   ]
  },
  {
   "cell_type": "code",
   "execution_count": 68,
   "id": "18e32b93",
   "metadata": {},
   "outputs": [],
   "source": [
    "train = data[:data.shape[0]-50]\n",
    "test = data[len(train):]"
   ]
  },
  {
   "cell_type": "code",
   "execution_count": 69,
   "id": "cb6e30c2",
   "metadata": {},
   "outputs": [],
   "source": [
    "scaller = MinMaxScaler()\n",
    "train_scaled = scaller.fit_transform(train)"
   ]
  },
  {
   "cell_type": "code",
   "execution_count": 70,
   "id": "0370d7f3",
   "metadata": {},
   "outputs": [],
   "source": [
    "X_train = []\n",
    "y_train = []\n",
    "timesteps = 50\n",
    "\n",
    "for i in range(timesteps,train_scaled.shape[0]):\n",
    "    X_train.append(train_scaled[i-timesteps:i,0])\n",
    "    y_train.append(train_scaled[i,0])"
   ]
  },
  {
   "cell_type": "code",
   "execution_count": 71,
   "id": "0d94e09f",
   "metadata": {},
   "outputs": [
    {
     "data": {
      "text/plain": [
       "(1158, 50)"
      ]
     },
     "execution_count": 71,
     "metadata": {},
     "output_type": "execute_result"
    }
   ],
   "source": [
    "X_train = np.array(X_train)\n",
    "y_train = np.array(y_train)\n",
    "X_train.shape"
   ]
  },
  {
   "cell_type": "code",
   "execution_count": 72,
   "id": "76e666d6",
   "metadata": {},
   "outputs": [
    {
     "data": {
      "text/plain": [
       "(1158, 50, 1)"
      ]
     },
     "execution_count": 72,
     "metadata": {},
     "output_type": "execute_result"
    }
   ],
   "source": [
    "X_train = X_train.reshape(X_train.shape[0],X_train.shape[1],1)\n",
    "X_train.shape"
   ]
  },
  {
   "cell_type": "code",
   "execution_count": 104,
   "id": "63c412b9",
   "metadata": {},
   "outputs": [],
   "source": [
    "model = Sequential()\n",
    "model.add(LSTM(10,activation='tanh',input_shape=(None,1),return_sequences=False))\n",
    "model.add(Dense(1))\n",
    "model.compile(optimizer='adam',loss='mean_squared_error')"
   ]
  },
  {
   "cell_type": "code",
   "execution_count": 105,
   "id": "bd40fab7",
   "metadata": {},
   "outputs": [
    {
     "name": "stdout",
     "output_type": "stream",
     "text": [
      "Epoch 1/50\n",
      "1158/1158 [==============================] - 9s 7ms/step - loss: 0.0051\n",
      "Epoch 2/50\n",
      "1158/1158 [==============================] - 8s 6ms/step - loss: 9.5139e-04\n",
      "Epoch 3/50\n",
      "1158/1158 [==============================] - 8s 7ms/step - loss: 8.2902e-04\n",
      "Epoch 4/50\n",
      "1158/1158 [==============================] - 7s 6ms/step - loss: 6.7420e-04\n",
      "Epoch 5/50\n",
      "1158/1158 [==============================] - 8s 7ms/step - loss: 5.7485e-04\n",
      "Epoch 6/50\n",
      "1158/1158 [==============================] - 8s 7ms/step - loss: 5.0893e-04\n",
      "Epoch 7/50\n",
      "1158/1158 [==============================] - 8s 7ms/step - loss: 4.5236e-04\n",
      "Epoch 8/50\n",
      "1158/1158 [==============================] - 8s 7ms/step - loss: 4.1923e-04\n",
      "Epoch 9/50\n",
      "1158/1158 [==============================] - 8s 7ms/step - loss: 3.8679e-04\n",
      "Epoch 10/50\n",
      "1158/1158 [==============================] - 7s 6ms/step - loss: 3.8348e-04\n",
      "Epoch 11/50\n",
      "1158/1158 [==============================] - 7s 6ms/step - loss: 3.6261e-04\n",
      "Epoch 12/50\n",
      "1158/1158 [==============================] - 7s 6ms/step - loss: 3.5512e-04\n",
      "Epoch 13/50\n",
      "1158/1158 [==============================] - 7s 6ms/step - loss: 3.5084e-04\n",
      "Epoch 14/50\n",
      "1158/1158 [==============================] - 7s 6ms/step - loss: 3.6412e-04\n",
      "Epoch 15/50\n",
      "1158/1158 [==============================] - 8s 6ms/step - loss: 3.2504e-04\n",
      "Epoch 16/50\n",
      "1158/1158 [==============================] - 7s 6ms/step - loss: 3.5039e-04\n",
      "Epoch 17/50\n",
      "1158/1158 [==============================] - 7s 6ms/step - loss: 3.2199e-04\n",
      "Epoch 18/50\n",
      "1158/1158 [==============================] - 7s 6ms/step - loss: 3.4911e-04\n",
      "Epoch 19/50\n",
      "1158/1158 [==============================] - 7s 6ms/step - loss: 3.5266e-04\n",
      "Epoch 20/50\n",
      "1158/1158 [==============================] - 7s 6ms/step - loss: 3.3303e-04\n",
      "Epoch 21/50\n",
      "1158/1158 [==============================] - 7s 6ms/step - loss: 3.3435e-04\n",
      "Epoch 22/50\n",
      "1158/1158 [==============================] - 7s 6ms/step - loss: 3.1582e-04\n",
      "Epoch 23/50\n",
      "1158/1158 [==============================] - 7s 6ms/step - loss: 3.3892e-04\n",
      "Epoch 24/50\n",
      "1158/1158 [==============================] - 7s 6ms/step - loss: 3.4187e-04\n",
      "Epoch 25/50\n",
      "1158/1158 [==============================] - 7s 6ms/step - loss: 3.3532e-04\n",
      "Epoch 26/50\n",
      "1158/1158 [==============================] - 7s 6ms/step - loss: 3.1249e-04\n",
      "Epoch 27/50\n",
      "1158/1158 [==============================] - 7s 6ms/step - loss: 3.1950e-04\n",
      "Epoch 28/50\n",
      "1158/1158 [==============================] - 7s 6ms/step - loss: 3.2841e-04\n",
      "Epoch 29/50\n",
      "1158/1158 [==============================] - 7s 6ms/step - loss: 3.3556e-04\n",
      "Epoch 30/50\n",
      "1158/1158 [==============================] - 7s 6ms/step - loss: 3.0802e-04\n",
      "Epoch 31/50\n",
      "1158/1158 [==============================] - 7s 6ms/step - loss: 3.2774e-04\n",
      "Epoch 32/50\n",
      "1158/1158 [==============================] - 7s 6ms/step - loss: 3.1309e-04\n",
      "Epoch 33/50\n",
      "1158/1158 [==============================] - 8s 6ms/step - loss: 3.1866e-04\n",
      "Epoch 34/50\n",
      "1158/1158 [==============================] - 8s 6ms/step - loss: 3.0750e-04\n",
      "Epoch 35/50\n",
      "1158/1158 [==============================] - 7s 6ms/step - loss: 3.1652e-04\n",
      "Epoch 36/50\n",
      "1158/1158 [==============================] - 7s 6ms/step - loss: 3.3451e-04\n",
      "Epoch 37/50\n",
      "1158/1158 [==============================] - 8s 7ms/step - loss: 3.2610e-04\n",
      "Epoch 38/50\n",
      "1158/1158 [==============================] - 7s 6ms/step - loss: 3.2947e-04\n",
      "Epoch 39/50\n",
      "1158/1158 [==============================] - 7s 6ms/step - loss: 3.1701e-04\n",
      "Epoch 40/50\n",
      "1158/1158 [==============================] - 7s 6ms/step - loss: 3.2108e-04\n",
      "Epoch 41/50\n",
      "1158/1158 [==============================] - 8s 7ms/step - loss: 3.1505e-04\n",
      "Epoch 42/50\n",
      "1158/1158 [==============================] - 8s 7ms/step - loss: 3.1930e-04\n",
      "Epoch 43/50\n",
      "1158/1158 [==============================] - 7s 6ms/step - loss: 3.2095e-04\n",
      "Epoch 44/50\n",
      "1158/1158 [==============================] - 8s 7ms/step - loss: 3.2048e-04\n",
      "Epoch 45/50\n",
      "1158/1158 [==============================] - 7s 6ms/step - loss: 3.2379e-04\n",
      "Epoch 46/50\n",
      "1158/1158 [==============================] - 8s 7ms/step - loss: 3.0701e-04\n",
      "Epoch 47/50\n",
      "1158/1158 [==============================] - 8s 7ms/step - loss: 3.1072e-04\n",
      "Epoch 48/50\n",
      "1158/1158 [==============================] - 8s 6ms/step - loss: 3.1672e-04\n",
      "Epoch 49/50\n",
      "1158/1158 [==============================] - 7s 6ms/step - loss: 3.1085e-04\n",
      "Epoch 50/50\n",
      "1158/1158 [==============================] - 7s 6ms/step - loss: 3.0717e-04\n"
     ]
    },
    {
     "data": {
      "text/plain": [
       "<keras.callbacks.History at 0x213ff9d6970>"
      ]
     },
     "execution_count": 105,
     "metadata": {},
     "output_type": "execute_result"
    }
   ],
   "source": [
    "model.fit(X_train,y_train,batch_size=1,epochs=50)"
   ]
  },
  {
   "cell_type": "code",
   "execution_count": 106,
   "id": "51120780",
   "metadata": {},
   "outputs": [],
   "source": [
    "X_test = data[len(data)-len(test)-timesteps:]\n",
    "X_test_scalled = scaller.transform(X_test)"
   ]
  },
  {
   "cell_type": "code",
   "execution_count": 107,
   "id": "12996618",
   "metadata": {},
   "outputs": [],
   "source": [
    "X_final = []\n",
    "for i in range(timesteps,X_test_scalled.shape[0]):\n",
    "    X_final.append(X_test_scalled[i-timesteps:i,0])"
   ]
  },
  {
   "cell_type": "code",
   "execution_count": 108,
   "id": "a988b1b3",
   "metadata": {},
   "outputs": [
    {
     "data": {
      "text/plain": [
       "(50, 50)"
      ]
     },
     "execution_count": 108,
     "metadata": {},
     "output_type": "execute_result"
    }
   ],
   "source": [
    "X_final = np.array(X_final)\n",
    "X_final.shape"
   ]
  },
  {
   "cell_type": "code",
   "execution_count": 109,
   "id": "0bfac15d",
   "metadata": {},
   "outputs": [],
   "source": [
    "X_final = X_final.reshape(X_final.shape[0],X_final.shape[1],1)"
   ]
  },
  {
   "cell_type": "code",
   "execution_count": 110,
   "id": "ff11c533",
   "metadata": {},
   "outputs": [
    {
     "data": {
      "text/plain": [
       "(50, 50, 1)"
      ]
     },
     "execution_count": 110,
     "metadata": {},
     "output_type": "execute_result"
    }
   ],
   "source": [
    "X_final.shape"
   ]
  },
  {
   "cell_type": "code",
   "execution_count": 111,
   "id": "1346e9bf",
   "metadata": {},
   "outputs": [
    {
     "name": "stdout",
     "output_type": "stream",
     "text": [
      "WARNING:tensorflow:6 out of the last 11 calls to <function Model.make_predict_function.<locals>.predict_function at 0x00000213F477E8B0> triggered tf.function retracing. Tracing is expensive and the excessive number of tracings could be due to (1) creating @tf.function repeatedly in a loop, (2) passing tensors with different shapes, (3) passing Python objects instead of tensors. For (1), please define your @tf.function outside of the loop. For (2), @tf.function has reduce_retracing=True option that can avoid unnecessary retracing. For (3), please refer to https://www.tensorflow.org/guide/function#controlling_retracing and https://www.tensorflow.org/api_docs/python/tf/function for  more details.\n",
      "2/2 [==============================] - 0s 4ms/step\n"
     ]
    }
   ],
   "source": [
    "predict = model.predict(X_final)\n",
    "normal = scaller.inverse_transform(predict)"
   ]
  },
  {
   "cell_type": "code",
   "execution_count": null,
   "id": "e3adddda",
   "metadata": {},
   "outputs": [],
   "source": []
  },
  {
   "cell_type": "code",
   "execution_count": 112,
   "id": "baa0c135",
   "metadata": {},
   "outputs": [
    {
     "data": {
      "text/plain": [
       "0.6524924257383499"
      ]
     },
     "execution_count": 112,
     "metadata": {},
     "output_type": "execute_result"
    }
   ],
   "source": [
    "r2_score(test,normal)"
   ]
  },
  {
   "cell_type": "code",
   "execution_count": 113,
   "id": "71c7872d",
   "metadata": {},
   "outputs": [
    {
     "data": {
      "image/png": "[encoded data removed]",
      "text/plain": [
       "<Figure size 640x320 with 1 Axes>"
      ]
     },
     "metadata": {},
     "output_type": "display_data"
    }
   ],
   "source": [
    "plt.figure(figsize=(8,4), dpi=80, facecolor='w', edgecolor='k')\n",
    "plt.plot(test,color=\"orange\",label=\"Real value\")\n",
    "plt.plot(normal,color=\"c\",label=\"RNN predicted result\")\n",
    "plt.legend()\n",
    "plt.xlabel(\"Days\")\n",
    "plt.ylabel(\"Values\")\n",
    "plt.grid(True)\n",
    "plt.show()"
   ]
  },
  {
   "cell_type": "code",
   "execution_count": null,
   "id": "4972f55f",
   "metadata": {},
   "outputs": [],
   "source": []
  },
  {
   "cell_type": "code",
   "execution_count": null,
   "id": "7ebd8ba1",
   "metadata": {},
   "outputs": [],
   "source": []
  }
 ],
 "metadata": {
  "kernelspec": {
   "display_name": "Python 3 (ipykernel)",
   "language": "python",
   "name": "python3"
  },
  "language_info": {
   "codemirror_mode": {
    "name": "ipython",
    "version": 3
   },
   "file_extension": ".py",
   "mimetype": "text/x-python",
   "name": "python",
   "nbconvert_exporter": "python",
   "pygments_lexer": "ipython3",
   "version": "3.9.12"
  }
 },
 "nbformat": 4,
 "nbformat_minor": 5
}
