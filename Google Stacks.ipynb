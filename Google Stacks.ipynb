{
 "cells": [
  {
   "cell_type": "code",
   "execution_count": 35,
   "id": "2106a8f0",
   "metadata": {},
   "outputs": [],
   "source": [
    "import pandas as pd\n",
    "import numpy as np\n",
    "import seaborn as sns\n",
    "import matplotlib.pyplot as plt\n",
    "import tensorflow as tf\n",
    "\n",
    "from sklearn.model_selection import train_test_split,TimeSeriesSplit,RandomizedSearchCV,GridSearchCV\n",
    "from sklearn.metrics import r2_score,mean_absolute_error,mean_squared_error\n",
    "from sklearn.linear_model import LinearRegression\n",
    "from sklearn.ensemble import RandomForestRegressor\n",
    "from sklearn.tree import DecisionTreeRegressor\n",
    "from sklearn.preprocessing import StandardScaler,MinMaxScaler\n",
    "\n",
    "from xgboost import XGBRegressor\n",
    "\n",
    "from tensorflow import keras\n",
    "from keras.layers import LSTM,Dense,Dropout\n",
    "from keras.models import Sequential\n",
    "\n"
   ]
  },
  {
   "cell_type": "code",
   "execution_count": 65,
   "id": "b54064aa",
   "metadata": {},
   "outputs": [
    {
     "data": {
      "text/html": [
       "<div>\n",
       "<style scoped>\n",
       "    .dataframe tbody tr th:only-of-type {\n",
       "        vertical-align: middle;\n",
       "    }\n",
       "\n",
       "    .dataframe tbody tr th {\n",
       "        vertical-align: top;\n",
       "    }\n",
       "\n",
       "    .dataframe thead th {\n",
       "        text-align: right;\n",
       "    }\n",
       "</style>\n",
       "<table border=\"1\" class=\"dataframe\">\n",
       "  <thead>\n",
       "    <tr style=\"text-align: right;\">\n",
       "      <th></th>\n",
       "      <th>Date</th>\n",
       "      <th>Open</th>\n",
       "      <th>High</th>\n",
       "      <th>Low</th>\n",
       "      <th>Close</th>\n",
       "      <th>Volume</th>\n",
       "    </tr>\n",
       "  </thead>\n",
       "  <tbody>\n",
       "    <tr>\n",
       "      <th>0</th>\n",
       "      <td>1/3/2012</td>\n",
       "      <td>325.25</td>\n",
       "      <td>332.83</td>\n",
       "      <td>324.97</td>\n",
       "      <td>663.59</td>\n",
       "      <td>7,380,500</td>\n",
       "    </tr>\n",
       "    <tr>\n",
       "      <th>1</th>\n",
       "      <td>1/4/2012</td>\n",
       "      <td>331.27</td>\n",
       "      <td>333.87</td>\n",
       "      <td>329.08</td>\n",
       "      <td>666.45</td>\n",
       "      <td>5,749,400</td>\n",
       "    </tr>\n",
       "    <tr>\n",
       "      <th>2</th>\n",
       "      <td>1/5/2012</td>\n",
       "      <td>329.83</td>\n",
       "      <td>330.75</td>\n",
       "      <td>326.89</td>\n",
       "      <td>657.21</td>\n",
       "      <td>6,590,300</td>\n",
       "    </tr>\n",
       "    <tr>\n",
       "      <th>3</th>\n",
       "      <td>1/6/2012</td>\n",
       "      <td>328.34</td>\n",
       "      <td>328.77</td>\n",
       "      <td>323.68</td>\n",
       "      <td>648.24</td>\n",
       "      <td>5,405,900</td>\n",
       "    </tr>\n",
       "    <tr>\n",
       "      <th>4</th>\n",
       "      <td>1/9/2012</td>\n",
       "      <td>322.04</td>\n",
       "      <td>322.29</td>\n",
       "      <td>309.46</td>\n",
       "      <td>620.76</td>\n",
       "      <td>11,688,800</td>\n",
       "    </tr>\n",
       "  </tbody>\n",
       "</table>\n",
       "</div>"
      ],
      "text/plain": [
       "       Date    Open    High     Low   Close      Volume\n",
       "0  1/3/2012  325.25  332.83  324.97  663.59   7,380,500\n",
       "1  1/4/2012  331.27  333.87  329.08  666.45   5,749,400\n",
       "2  1/5/2012  329.83  330.75  326.89  657.21   6,590,300\n",
       "3  1/6/2012  328.34  328.77  323.68  648.24   5,405,900\n",
       "4  1/9/2012  322.04  322.29  309.46  620.76  11,688,800"
      ]
     },
     "execution_count": 65,
     "metadata": {},
     "output_type": "execute_result"
    }
   ],
   "source": [
    "data = pd.read_csv('Google_Stock_Price_Train.csv')\n",
    "data.head()"
   ]
  },
  {
   "cell_type": "code",
   "execution_count": 66,
   "id": "3e9ea83e",
   "metadata": {},
   "outputs": [
    {
     "data": {
      "text/plain": [
       "array([325.25, 331.27, 329.83, ..., 793.7 , 783.33, 782.75])"
      ]
     },
     "execution_count": 66,
     "metadata": {},
     "output_type": "execute_result"
    }
   ],
   "source": [
    "data = data['Open'].values\n",
    "data"
   ]
  },
  {
   "cell_type": "code",
   "execution_count": 67,
   "id": "dc05026a",
   "metadata": {},
   "outputs": [
    {
     "data": {
      "text/plain": [
       "array([[325.25],\n",
       "       [331.27],\n",
       "       [329.83],\n",
       "       ...,\n",
       "       [793.7 ],\n",
       "       [783.33],\n",
       "       [782.75]])"
      ]
     },
     "execution_count": 67,
     "metadata": {},
     "output_type": "execute_result"
    }
   ],
   "source": [
    "data = data.reshape(-1,1)\n",
    "data"
   ]
  },
  {
   "cell_type": "code",
   "execution_count": 68,
   "id": "c7cc614e",
   "metadata": {},
   "outputs": [],
   "source": [
    "train = data[:data.shape[0]-50]\n",
    "test = data[len(train):]"
   ]
  },
  {
   "cell_type": "code",
   "execution_count": null,
   "id": "db97bff3",
   "metadata": {},
   "outputs": [],
   "source": []
  },
  {
   "cell_type": "code",
   "execution_count": 69,
   "id": "966c4ae6",
   "metadata": {},
   "outputs": [],
   "source": [
    "scaller = MinMaxScaler()\n",
    "train_scaled = scaller.fit_transform(train)"
   ]
  },
  {
   "cell_type": "code",
   "execution_count": 70,
   "id": "89cee2b8",
   "metadata": {},
   "outputs": [],
   "source": [
    "X_train = []\n",
    "y_train = []\n",
    "timesteps = 50\n",
    "\n",
    "for i in range(timesteps,train_scaled.shape[0]):\n",
    "    X_train.append(train_scaled[i-timesteps:i,0])\n",
    "    y_train.append(train_scaled[i,0])"
   ]
  },
  {
   "cell_type": "code",
   "execution_count": 71,
   "id": "4b30d8c2",
   "metadata": {},
   "outputs": [
    {
     "data": {
      "text/plain": [
       "(1158, 50)"
      ]
     },
     "execution_count": 71,
     "metadata": {},
     "output_type": "execute_result"
    }
   ],
   "source": [
    "X_train = np.array(X_train)\n",
    "y_train = np.array(y_train)\n",
    "X_train.shape"
   ]
  },
  {
   "cell_type": "code",
   "execution_count": 72,
   "id": "ae8a3ede",
   "metadata": {},
   "outputs": [
    {
     "data": {
      "text/plain": [
       "(1158, 50, 1)"
      ]
     },
     "execution_count": 72,
     "metadata": {},
     "output_type": "execute_result"
    }
   ],
   "source": [
    "X_train = X_train.reshape(X_train.shape[0],X_train.shape[1],1)\n",
    "X_train.shape"
   ]
  },
  {
   "cell_type": "code",
   "execution_count": 114,
   "id": "1be82a50",
   "metadata": {},
   "outputs": [],
   "source": [
    "model = Sequential()\n",
    "model.add(LSTM(10,activation='tanh',input_shape=(50,1),return_sequences=False))\n",
    "model.add(Dense(1))\n",
    "model.compile(optimizer='adam',loss='mean_squared_error')"
   ]
  },
  {
   "cell_type": "code",
   "execution_count": 115,
   "id": "6ed05ffe",
   "metadata": {},
   "outputs": [
    {
     "name": "stdout",
     "output_type": "stream",
     "text": [
      "Epoch 1/50\n",
      "1158/1158 [==============================] - 9s 7ms/step - loss: 0.0043\n",
      "Epoch 2/50\n",
      "1158/1158 [==============================] - 8s 7ms/step - loss: 8.8033e-04\n",
      "Epoch 3/50\n",
      "1158/1158 [==============================] - 8s 7ms/step - loss: 6.7722e-04\n",
      "Epoch 4/50\n",
      "1158/1158 [==============================] - 8s 7ms/step - loss: 6.3939e-04\n",
      "Epoch 5/50\n",
      "1158/1158 [==============================] - 8s 7ms/step - loss: 5.4204e-04\n",
      "Epoch 6/50\n",
      "1158/1158 [==============================] - 8s 7ms/step - loss: 5.0358e-04\n",
      "Epoch 7/50\n",
      "1158/1158 [==============================] - 8s 7ms/step - loss: 4.5117e-04\n",
      "Epoch 8/50\n",
      "1158/1158 [==============================] - 8s 6ms/step - loss: 4.6159e-04\n",
      "Epoch 9/50\n",
      "1158/1158 [==============================] - 8s 7ms/step - loss: 4.0945e-04\n",
      "Epoch 10/50\n",
      "1158/1158 [==============================] - 8s 7ms/step - loss: 3.6186e-04\n",
      "Epoch 11/50\n",
      "1158/1158 [==============================] - 8s 7ms/step - loss: 3.7693e-04\n",
      "Epoch 12/50\n",
      "1158/1158 [==============================] - 8s 7ms/step - loss: 3.3980e-04\n",
      "Epoch 13/50\n",
      "1158/1158 [==============================] - 8s 7ms/step - loss: 3.7722e-04\n",
      "Epoch 14/50\n",
      "1158/1158 [==============================] - 8s 7ms/step - loss: 3.4722e-04\n",
      "Epoch 15/50\n",
      "1158/1158 [==============================] - 8s 7ms/step - loss: 3.5348e-04\n",
      "Epoch 16/50\n",
      "1158/1158 [==============================] - 8s 7ms/step - loss: 3.4855e-04\n",
      "Epoch 17/50\n",
      "1158/1158 [==============================] - 8s 7ms/step - loss: 3.4820e-04\n",
      "Epoch 18/50\n",
      "1158/1158 [==============================] - 8s 7ms/step - loss: 3.3193e-04\n",
      "Epoch 19/50\n",
      "1158/1158 [==============================] - 8s 7ms/step - loss: 3.3071e-04\n",
      "Epoch 20/50\n",
      "1158/1158 [==============================] - 8s 7ms/step - loss: 3.3544e-04\n",
      "Epoch 21/50\n",
      "1158/1158 [==============================] - 8s 7ms/step - loss: 3.3552e-04\n",
      "Epoch 22/50\n",
      "1158/1158 [==============================] - 8s 7ms/step - loss: 3.3312e-04\n",
      "Epoch 23/50\n",
      "1158/1158 [==============================] - 8s 7ms/step - loss: 3.3697e-04\n",
      "Epoch 24/50\n",
      "1158/1158 [==============================] - 8s 7ms/step - loss: 3.3664e-04\n",
      "Epoch 25/50\n",
      "1158/1158 [==============================] - 8s 7ms/step - loss: 3.1629e-04\n",
      "Epoch 26/50\n",
      "1158/1158 [==============================] - 8s 7ms/step - loss: 3.3294e-04\n",
      "Epoch 27/50\n",
      "1158/1158 [==============================] - 8s 7ms/step - loss: 3.2330e-04\n",
      "Epoch 28/50\n",
      "1158/1158 [==============================] - 8s 7ms/step - loss: 3.1709e-04\n",
      "Epoch 29/50\n",
      "1158/1158 [==============================] - 8s 7ms/step - loss: 3.2117e-04\n",
      "Epoch 30/50\n",
      "1158/1158 [==============================] - 8s 7ms/step - loss: 3.2668e-04\n",
      "Epoch 31/50\n",
      "1158/1158 [==============================] - 8s 7ms/step - loss: 3.2838e-04\n",
      "Epoch 32/50\n",
      "1158/1158 [==============================] - 8s 7ms/step - loss: 3.1705e-04\n",
      "Epoch 33/50\n",
      "1158/1158 [==============================] - 8s 7ms/step - loss: 3.2589e-04\n",
      "Epoch 34/50\n",
      "1158/1158 [==============================] - 8s 7ms/step - loss: 3.1590e-04\n",
      "Epoch 35/50\n",
      "1158/1158 [==============================] - 8s 7ms/step - loss: 3.3270e-04\n",
      "Epoch 36/50\n",
      "1158/1158 [==============================] - 8s 7ms/step - loss: 3.3227e-04\n",
      "Epoch 37/50\n",
      "1158/1158 [==============================] - 8s 7ms/step - loss: 3.2908e-04\n",
      "Epoch 38/50\n",
      "1158/1158 [==============================] - 8s 7ms/step - loss: 3.2540e-04\n",
      "Epoch 39/50\n",
      "1158/1158 [==============================] - 8s 7ms/step - loss: 3.4235e-04\n",
      "Epoch 40/50\n",
      "1158/1158 [==============================] - 8s 7ms/step - loss: 3.2031e-04\n",
      "Epoch 41/50\n",
      "1158/1158 [==============================] - 7s 6ms/step - loss: 3.1347e-04\n",
      "Epoch 42/50\n",
      "1158/1158 [==============================] - 7s 6ms/step - loss: 3.2790e-04\n",
      "Epoch 43/50\n",
      "1158/1158 [==============================] - 8s 7ms/step - loss: 3.2124e-04\n",
      "Epoch 44/50\n",
      "1158/1158 [==============================] - 8s 7ms/step - loss: 3.1837e-04\n",
      "Epoch 45/50\n",
      "1158/1158 [==============================] - 8s 7ms/step - loss: 3.1986e-04\n",
      "Epoch 46/50\n",
      "1158/1158 [==============================] - 8s 7ms/step - loss: 3.2852e-04\n",
      "Epoch 47/50\n",
      "1158/1158 [==============================] - 8s 7ms/step - loss: 3.2181e-04\n",
      "Epoch 48/50\n",
      "1158/1158 [==============================] - 8s 7ms/step - loss: 3.2473e-04\n",
      "Epoch 49/50\n",
      "1158/1158 [==============================] - 8s 7ms/step - loss: 3.1309e-04\n",
      "Epoch 50/50\n",
      "1158/1158 [==============================] - 8s 7ms/step - loss: 3.0902e-04\n"
     ]
    },
    {
     "data": {
      "text/plain": [
       "<keras.callbacks.History at 0x21383139ac0>"
      ]
     },
     "execution_count": 115,
     "metadata": {},
     "output_type": "execute_result"
    }
   ],
   "source": [
    "model.fit(X_train,y_train,batch_size=1,epochs=50)"
   ]
  },
  {
   "cell_type": "code",
   "execution_count": 116,
   "id": "d71fc374",
   "metadata": {},
   "outputs": [],
   "source": [
    "X_test = data[len(data)-len(test)-timesteps:]\n",
    "X_test_scalled = scaller.transform(X_test)"
   ]
  },
  {
   "cell_type": "code",
   "execution_count": 117,
   "id": "75c51b5a",
   "metadata": {},
   "outputs": [],
   "source": [
    "X_final = []\n",
    "for i in range(timesteps,X_test_scalled.shape[0]):\n",
    "    X_final.append(X_test_scalled[i-timesteps:i,0])"
   ]
  },
  {
   "cell_type": "code",
   "execution_count": 118,
   "id": "1eba25e6",
   "metadata": {},
   "outputs": [
    {
     "data": {
      "text/plain": [
       "(50, 50)"
      ]
     },
     "execution_count": 118,
     "metadata": {},
     "output_type": "execute_result"
    }
   ],
   "source": [
    "X_final = np.array(X_final)\n",
    "X_final.shape"
   ]
  },
  {
   "cell_type": "code",
   "execution_count": 119,
   "id": "b5c07f6e",
   "metadata": {},
   "outputs": [],
   "source": [
    "X_final = X_final.reshape(X_final.shape[0],X_final.shape[1],1)"
   ]
  },
  {
   "cell_type": "code",
   "execution_count": 120,
   "id": "87e0cb25",
   "metadata": {},
   "outputs": [
    {
     "data": {
      "text/plain": [
       "(50, 50, 1)"
      ]
     },
     "execution_count": 120,
     "metadata": {},
     "output_type": "execute_result"
    }
   ],
   "source": [
    "X_final.shape"
   ]
  },
  {
   "cell_type": "code",
   "execution_count": 121,
   "id": "f6152687",
   "metadata": {},
   "outputs": [
    {
     "name": "stdout",
     "output_type": "stream",
     "text": [
      "2/2 [==============================] - 0s 4ms/step\n"
     ]
    }
   ],
   "source": [
    "predict = model.predict(X_final)\n",
    "normal = scaller.inverse_transform(predict)"
   ]
  },
  {
   "cell_type": "code",
   "execution_count": null,
   "id": "cb197f24",
   "metadata": {},
   "outputs": [],
   "source": []
  },
  {
   "cell_type": "code",
   "execution_count": 122,
   "id": "74a076d0",
   "metadata": {},
   "outputs": [
    {
     "data": {
      "text/plain": [
       "0.5903151576492057"
      ]
     },
     "execution_count": 122,
     "metadata": {},
     "output_type": "execute_result"
    }
   ],
   "source": [
    "r2_score(test,normal)"
   ]
  },
  {
   "cell_type": "code",
   "execution_count": 124,
   "id": "6342859a",
   "metadata": {},
   "outputs": [
    {
     "data": {
      "image/png": "[encoded data removed]",
      "text/plain": [
       "<Figure size 640x320 with 1 Axes>"
      ]
     },
     "metadata": {},
     "output_type": "display_data"
    }
   ],
   "source": [
    "plt.figure(figsize=(8,4), dpi=80, facecolor='w', edgecolor='k')\n",
    "plt.plot(test,color=\"orange\",label=\"Real value\")\n",
    "plt.plot(normal,color=\"c\",label=\"LSTM predicted result\")\n",
    "plt.legend()\n",
    "plt.xlabel(\"Days\")\n",
    "plt.ylabel(\"Values\")\n",
    "plt.grid(True)\n",
    "plt.show()"
   ]
  },
  {
   "cell_type": "code",
   "execution_count": null,
   "id": "8be9232e",
   "metadata": {},
   "outputs": [],
   "source": []
  },
  {
   "cell_type": "code",
   "execution_count": 125,
   "id": "ff26246c",
   "metadata": {},
   "outputs": [],
   "source": [
    "model2 = Sequential()\n",
    "model2.add(LSTM(10,activation='tanh',input_shape=(50,1),return_sequences=False))\n",
    "model2.add(Dense(1))\n",
    "model2.compile(optimizer='adam',loss='mean_squared_error')"
   ]
  },
  {
   "cell_type": "code",
   "execution_count": 126,
   "id": "b0e59d5e",
   "metadata": {},
   "outputs": [
    {
     "name": "stdout",
     "output_type": "stream",
     "text": [
      "Epoch 1/200\n",
      "290/290 [==============================] - 5s 11ms/step - loss: 0.0076\n",
      "Epoch 2/200\n",
      "290/290 [==============================] - 3s 11ms/step - loss: 0.0010\n",
      "Epoch 3/200\n",
      "290/290 [==============================] - 3s 11ms/step - loss: 8.7114e-04\n",
      "Epoch 4/200\n",
      "290/290 [==============================] - 3s 11ms/step - loss: 8.2528e-04\n",
      "Epoch 5/200\n",
      "290/290 [==============================] - 3s 11ms/step - loss: 7.1572e-04\n",
      "Epoch 6/200\n",
      "290/290 [==============================] - 3s 11ms/step - loss: 6.9900e-04\n",
      "Epoch 7/200\n",
      "290/290 [==============================] - 3s 10ms/step - loss: 6.2652e-04\n",
      "Epoch 8/200\n",
      "290/290 [==============================] - 3s 11ms/step - loss: 6.0311e-04\n",
      "Epoch 9/200\n",
      "290/290 [==============================] - 3s 11ms/step - loss: 5.8084e-04\n",
      "Epoch 10/200\n",
      "290/290 [==============================] - 3s 12ms/step - loss: 5.3561e-04\n",
      "Epoch 11/200\n",
      "290/290 [==============================] - 3s 11ms/step - loss: 5.1032e-04\n",
      "Epoch 12/200\n",
      "290/290 [==============================] - 3s 11ms/step - loss: 4.8096e-04\n",
      "Epoch 13/200\n",
      "290/290 [==============================] - 3s 11ms/step - loss: 4.6981e-04\n",
      "Epoch 14/200\n",
      "290/290 [==============================] - 3s 11ms/step - loss: 4.4808e-04\n",
      "Epoch 15/200\n",
      "290/290 [==============================] - 3s 11ms/step - loss: 4.3659e-04\n",
      "Epoch 16/200\n",
      "290/290 [==============================] - 3s 11ms/step - loss: 3.9451e-04\n",
      "Epoch 17/200\n",
      "290/290 [==============================] - 3s 11ms/step - loss: 3.9064e-04\n",
      "Epoch 18/200\n",
      "290/290 [==============================] - 3s 11ms/step - loss: 4.1264e-04\n",
      "Epoch 19/200\n",
      "290/290 [==============================] - 3s 11ms/step - loss: 3.7050e-04\n",
      "Epoch 20/200\n",
      "290/290 [==============================] - 3s 11ms/step - loss: 3.5282e-04\n",
      "Epoch 21/200\n",
      "290/290 [==============================] - 3s 11ms/step - loss: 3.4727e-04\n",
      "Epoch 22/200\n",
      "290/290 [==============================] - 3s 11ms/step - loss: 3.4551e-04\n",
      "Epoch 23/200\n",
      "290/290 [==============================] - 3s 11ms/step - loss: 3.3423e-04\n",
      "Epoch 24/200\n",
      "290/290 [==============================] - 3s 11ms/step - loss: 3.4460e-04\n",
      "Epoch 25/200\n",
      "290/290 [==============================] - 3s 11ms/step - loss: 3.4249e-04\n",
      "Epoch 26/200\n",
      "290/290 [==============================] - 3s 11ms/step - loss: 3.6183e-04\n",
      "Epoch 27/200\n",
      "290/290 [==============================] - 3s 11ms/step - loss: 3.1579e-04\n",
      "Epoch 28/200\n",
      "290/290 [==============================] - 3s 11ms/step - loss: 3.2997e-04\n",
      "Epoch 29/200\n",
      "290/290 [==============================] - 3s 11ms/step - loss: 3.1011e-04\n",
      "Epoch 30/200\n",
      "290/290 [==============================] - 3s 11ms/step - loss: 3.1698e-04\n",
      "Epoch 31/200\n",
      "290/290 [==============================] - 3s 11ms/step - loss: 3.1464e-04\n",
      "Epoch 32/200\n",
      "290/290 [==============================] - 3s 11ms/step - loss: 3.2168e-04\n",
      "Epoch 33/200\n",
      "290/290 [==============================] - 3s 11ms/step - loss: 3.4282e-04\n",
      "Epoch 34/200\n",
      "290/290 [==============================] - 3s 11ms/step - loss: 3.0615e-04\n",
      "Epoch 35/200\n",
      "290/290 [==============================] - 3s 11ms/step - loss: 2.9830e-04\n",
      "Epoch 36/200\n",
      "290/290 [==============================] - 3s 11ms/step - loss: 3.0202e-04\n",
      "Epoch 37/200\n",
      "290/290 [==============================] - 3s 11ms/step - loss: 2.8785e-04\n",
      "Epoch 38/200\n",
      "290/290 [==============================] - 3s 11ms/step - loss: 3.1749e-04\n",
      "Epoch 39/200\n",
      "290/290 [==============================] - 3s 11ms/step - loss: 3.0969e-04\n",
      "Epoch 40/200\n",
      "290/290 [==============================] - 3s 11ms/step - loss: 2.9401e-04\n",
      "Epoch 41/200\n",
      "290/290 [==============================] - 3s 11ms/step - loss: 3.0011e-04\n",
      "Epoch 42/200\n",
      "290/290 [==============================] - 3s 11ms/step - loss: 3.0590e-04\n",
      "Epoch 43/200\n",
      "290/290 [==============================] - 3s 11ms/step - loss: 3.2208e-04\n",
      "Epoch 44/200\n",
      "290/290 [==============================] - 3s 11ms/step - loss: 3.0779e-04\n",
      "Epoch 45/200\n",
      "290/290 [==============================] - 3s 11ms/step - loss: 3.0471e-04\n",
      "Epoch 46/200\n",
      "290/290 [==============================] - 3s 11ms/step - loss: 2.8897e-04\n",
      "Epoch 47/200\n",
      "290/290 [==============================] - 3s 11ms/step - loss: 3.0299e-04\n",
      "Epoch 48/200\n",
      "290/290 [==============================] - 3s 12ms/step - loss: 2.9872e-04\n",
      "Epoch 49/200\n",
      "290/290 [==============================] - 3s 11ms/step - loss: 2.9760e-04\n",
      "Epoch 50/200\n",
      "290/290 [==============================] - 3s 11ms/step - loss: 3.1469e-04\n",
      "Epoch 51/200\n",
      "290/290 [==============================] - 4s 12ms/step - loss: 2.9957e-04\n",
      "Epoch 52/200\n",
      "290/290 [==============================] - 3s 11ms/step - loss: 2.9566e-04\n",
      "Epoch 53/200\n",
      "290/290 [==============================] - 3s 11ms/step - loss: 2.9215e-04\n",
      "Epoch 54/200\n",
      "290/290 [==============================] - 4s 14ms/step - loss: 2.9811e-04\n",
      "Epoch 55/200\n",
      "290/290 [==============================] - 3s 11ms/step - loss: 2.9124e-04\n",
      "Epoch 56/200\n",
      "290/290 [==============================] - 4s 14ms/step - loss: 3.0011e-04\n",
      "Epoch 57/200\n",
      "290/290 [==============================] - 3s 11ms/step - loss: 3.2037e-04\n",
      "Epoch 58/200\n",
      "290/290 [==============================] - 3s 12ms/step - loss: 2.9261e-04\n",
      "Epoch 59/200\n",
      "290/290 [==============================] - 3s 11ms/step - loss: 2.9904e-04\n",
      "Epoch 60/200\n",
      "290/290 [==============================] - 3s 10ms/step - loss: 2.9883e-04\n",
      "Epoch 61/200\n",
      "290/290 [==============================] - 3s 10ms/step - loss: 2.9795e-04\n",
      "Epoch 62/200\n",
      "290/290 [==============================] - 3s 10ms/step - loss: 3.0293e-04\n",
      "Epoch 63/200\n",
      "290/290 [==============================] - 3s 10ms/step - loss: 2.9183e-04\n",
      "Epoch 64/200\n",
      "290/290 [==============================] - 3s 10ms/step - loss: 2.9879e-04\n",
      "Epoch 65/200\n",
      "290/290 [==============================] - 3s 10ms/step - loss: 2.9129e-04\n",
      "Epoch 66/200\n",
      "290/290 [==============================] - 3s 10ms/step - loss: 2.8599e-04\n",
      "Epoch 67/200\n",
      "290/290 [==============================] - 3s 10ms/step - loss: 2.9767e-04\n",
      "Epoch 68/200\n",
      "290/290 [==============================] - 3s 10ms/step - loss: 2.8845e-04\n",
      "Epoch 69/200\n",
      "290/290 [==============================] - 3s 10ms/step - loss: 2.8492e-04\n",
      "Epoch 70/200\n",
      "290/290 [==============================] - 3s 10ms/step - loss: 2.7820e-04\n",
      "Epoch 71/200\n",
      "290/290 [==============================] - 3s 10ms/step - loss: 3.0928e-04\n",
      "Epoch 72/200\n",
      "290/290 [==============================] - 3s 10ms/step - loss: 2.9609e-04\n",
      "Epoch 73/200\n",
      "290/290 [==============================] - 3s 10ms/step - loss: 2.9335e-04\n",
      "Epoch 74/200\n",
      "290/290 [==============================] - 3s 10ms/step - loss: 2.9184e-04\n",
      "Epoch 75/200\n",
      "290/290 [==============================] - 3s 10ms/step - loss: 2.9955e-04\n",
      "Epoch 76/200\n",
      "290/290 [==============================] - 3s 10ms/step - loss: 3.0310e-04\n",
      "Epoch 77/200\n",
      "290/290 [==============================] - 3s 10ms/step - loss: 2.8543e-04\n",
      "Epoch 78/200\n",
      "290/290 [==============================] - 3s 10ms/step - loss: 3.0488e-04\n",
      "Epoch 79/200\n",
      "290/290 [==============================] - 3s 10ms/step - loss: 2.9002e-04\n",
      "Epoch 80/200\n",
      "290/290 [==============================] - 3s 10ms/step - loss: 2.8717e-04\n",
      "Epoch 81/200\n",
      "290/290 [==============================] - 3s 10ms/step - loss: 2.9474e-04\n",
      "Epoch 82/200\n",
      "290/290 [==============================] - 3s 10ms/step - loss: 2.8642e-04\n",
      "Epoch 83/200\n",
      "290/290 [==============================] - 3s 10ms/step - loss: 2.9316e-04\n",
      "Epoch 84/200\n",
      "290/290 [==============================] - 3s 10ms/step - loss: 2.9238e-04\n",
      "Epoch 85/200\n",
      "290/290 [==============================] - 3s 10ms/step - loss: 2.9006e-04\n",
      "Epoch 86/200\n",
      "290/290 [==============================] - 3s 10ms/step - loss: 2.9411e-04\n",
      "Epoch 87/200\n",
      "290/290 [==============================] - 3s 10ms/step - loss: 2.8647e-04\n",
      "Epoch 88/200\n",
      "290/290 [==============================] - 3s 10ms/step - loss: 3.1185e-04\n",
      "Epoch 89/200\n",
      "290/290 [==============================] - 3s 10ms/step - loss: 2.8825e-04\n",
      "Epoch 90/200\n",
      "290/290 [==============================] - 3s 10ms/step - loss: 2.8773e-04\n",
      "Epoch 91/200\n",
      "290/290 [==============================] - 3s 10ms/step - loss: 2.9222e-04\n",
      "Epoch 92/200\n",
      "290/290 [==============================] - 3s 10ms/step - loss: 2.8276e-04\n",
      "Epoch 93/200\n",
      "290/290 [==============================] - 3s 10ms/step - loss: 2.8906e-04\n",
      "Epoch 94/200\n"
     ]
    },
    {
     "name": "stdout",
     "output_type": "stream",
     "text": [
      "290/290 [==============================] - 3s 10ms/step - loss: 2.9150e-04\n",
      "Epoch 95/200\n",
      "290/290 [==============================] - 3s 10ms/step - loss: 2.9612e-04\n",
      "Epoch 96/200\n",
      "290/290 [==============================] - 3s 10ms/step - loss: 2.8996e-04\n",
      "Epoch 97/200\n",
      "290/290 [==============================] - 3s 10ms/step - loss: 2.8701e-04\n",
      "Epoch 98/200\n",
      "290/290 [==============================] - 3s 10ms/step - loss: 2.8491e-04\n",
      "Epoch 99/200\n",
      "290/290 [==============================] - 3s 10ms/step - loss: 2.9012e-04\n",
      "Epoch 100/200\n",
      "290/290 [==============================] - 3s 10ms/step - loss: 2.8603e-04\n",
      "Epoch 101/200\n",
      "290/290 [==============================] - 3s 10ms/step - loss: 2.8098e-04\n",
      "Epoch 102/200\n",
      "290/290 [==============================] - 3s 10ms/step - loss: 2.8945e-04\n",
      "Epoch 103/200\n",
      "290/290 [==============================] - 3s 10ms/step - loss: 2.8984e-04\n",
      "Epoch 104/200\n",
      "290/290 [==============================] - 3s 10ms/step - loss: 2.9050e-04\n",
      "Epoch 105/200\n",
      "290/290 [==============================] - 3s 10ms/step - loss: 2.9932e-04\n",
      "Epoch 106/200\n",
      "290/290 [==============================] - 3s 10ms/step - loss: 2.9144e-04\n",
      "Epoch 107/200\n",
      "290/290 [==============================] - 3s 10ms/step - loss: 3.0012e-04\n",
      "Epoch 108/200\n",
      "290/290 [==============================] - 3s 10ms/step - loss: 2.9036e-04\n",
      "Epoch 109/200\n",
      "290/290 [==============================] - 3s 10ms/step - loss: 2.7837e-04\n",
      "Epoch 110/200\n",
      "290/290 [==============================] - 3s 10ms/step - loss: 2.8673e-04\n",
      "Epoch 111/200\n",
      "290/290 [==============================] - 3s 10ms/step - loss: 2.8648e-04\n",
      "Epoch 112/200\n",
      "290/290 [==============================] - 3s 10ms/step - loss: 2.7668e-04\n",
      "Epoch 113/200\n",
      "290/290 [==============================] - 3s 10ms/step - loss: 2.8570e-04\n",
      "Epoch 114/200\n",
      "290/290 [==============================] - 3s 10ms/step - loss: 2.8582e-04\n",
      "Epoch 115/200\n",
      "290/290 [==============================] - 3s 10ms/step - loss: 2.9541e-04\n",
      "Epoch 116/200\n",
      "290/290 [==============================] - 3s 10ms/step - loss: 2.8221e-04\n",
      "Epoch 117/200\n",
      "290/290 [==============================] - 3s 10ms/step - loss: 2.9027e-04\n",
      "Epoch 118/200\n",
      "290/290 [==============================] - 3s 10ms/step - loss: 2.9694e-04\n",
      "Epoch 119/200\n",
      "290/290 [==============================] - 3s 10ms/step - loss: 2.8712e-04\n",
      "Epoch 120/200\n",
      "290/290 [==============================] - 3s 10ms/step - loss: 2.8993e-04\n",
      "Epoch 121/200\n",
      "290/290 [==============================] - 3s 10ms/step - loss: 2.8895e-04\n",
      "Epoch 122/200\n",
      "290/290 [==============================] - 3s 10ms/step - loss: 3.0046e-04\n",
      "Epoch 123/200\n",
      "290/290 [==============================] - 3s 10ms/step - loss: 2.8924e-04\n",
      "Epoch 124/200\n",
      "290/290 [==============================] - 3s 10ms/step - loss: 2.8856e-04\n",
      "Epoch 125/200\n",
      "290/290 [==============================] - 3s 10ms/step - loss: 2.8020e-04\n",
      "Epoch 126/200\n",
      "290/290 [==============================] - 3s 10ms/step - loss: 2.8920e-04\n",
      "Epoch 127/200\n",
      "290/290 [==============================] - 3s 10ms/step - loss: 2.8398e-04\n",
      "Epoch 128/200\n",
      "290/290 [==============================] - 3s 10ms/step - loss: 2.9069e-04\n",
      "Epoch 129/200\n",
      "290/290 [==============================] - 3s 10ms/step - loss: 2.8078e-04\n",
      "Epoch 130/200\n",
      "290/290 [==============================] - 3s 10ms/step - loss: 2.8634e-04\n",
      "Epoch 131/200\n",
      "290/290 [==============================] - 3s 10ms/step - loss: 2.8948e-04\n",
      "Epoch 132/200\n",
      "290/290 [==============================] - 3s 10ms/step - loss: 2.8213e-04\n",
      "Epoch 133/200\n",
      "290/290 [==============================] - 3s 10ms/step - loss: 2.8123e-04\n",
      "Epoch 134/200\n",
      "290/290 [==============================] - 3s 10ms/step - loss: 2.9159e-04\n",
      "Epoch 135/200\n",
      "290/290 [==============================] - 3s 10ms/step - loss: 2.9278e-04\n",
      "Epoch 136/200\n",
      "290/290 [==============================] - 3s 10ms/step - loss: 2.8271e-04\n",
      "Epoch 137/200\n",
      "290/290 [==============================] - 3s 10ms/step - loss: 2.9085e-04\n",
      "Epoch 138/200\n",
      "290/290 [==============================] - 3s 10ms/step - loss: 2.7888e-04\n",
      "Epoch 139/200\n",
      "290/290 [==============================] - 3s 10ms/step - loss: 2.7669e-04\n",
      "Epoch 140/200\n",
      "290/290 [==============================] - 3s 10ms/step - loss: 2.8130e-04\n",
      "Epoch 141/200\n",
      "290/290 [==============================] - 3s 10ms/step - loss: 2.9014e-04\n",
      "Epoch 142/200\n",
      "290/290 [==============================] - 3s 10ms/step - loss: 2.9275e-04\n",
      "Epoch 143/200\n",
      "290/290 [==============================] - 3s 10ms/step - loss: 2.9636e-04\n",
      "Epoch 144/200\n",
      "290/290 [==============================] - 3s 10ms/step - loss: 2.8268e-04\n",
      "Epoch 145/200\n",
      "290/290 [==============================] - 3s 10ms/step - loss: 2.9210e-04\n",
      "Epoch 146/200\n",
      "290/290 [==============================] - 3s 10ms/step - loss: 2.8038e-04\n",
      "Epoch 147/200\n",
      "290/290 [==============================] - 3s 10ms/step - loss: 2.8706e-04\n",
      "Epoch 148/200\n",
      "290/290 [==============================] - 3s 10ms/step - loss: 2.8940e-04\n",
      "Epoch 149/200\n",
      "290/290 [==============================] - 3s 10ms/step - loss: 2.8280e-04\n",
      "Epoch 150/200\n",
      "290/290 [==============================] - 3s 10ms/step - loss: 2.8353e-04\n",
      "Epoch 151/200\n",
      "290/290 [==============================] - 3s 10ms/step - loss: 2.8970e-04\n",
      "Epoch 152/200\n",
      "290/290 [==============================] - 3s 10ms/step - loss: 2.8389e-04\n",
      "Epoch 153/200\n",
      "290/290 [==============================] - 3s 10ms/step - loss: 2.9526e-04\n",
      "Epoch 154/200\n",
      "290/290 [==============================] - 3s 10ms/step - loss: 2.8159e-04\n",
      "Epoch 155/200\n",
      "290/290 [==============================] - 3s 10ms/step - loss: 2.9919e-04\n",
      "Epoch 156/200\n",
      "290/290 [==============================] - 3s 10ms/step - loss: 2.8548e-04\n",
      "Epoch 157/200\n",
      "290/290 [==============================] - 3s 10ms/step - loss: 2.9474e-04\n",
      "Epoch 158/200\n",
      "290/290 [==============================] - 3s 10ms/step - loss: 2.8803e-04\n",
      "Epoch 159/200\n",
      "290/290 [==============================] - 3s 10ms/step - loss: 2.8530e-04\n",
      "Epoch 160/200\n",
      "290/290 [==============================] - 3s 10ms/step - loss: 2.8866e-04\n",
      "Epoch 161/200\n",
      "290/290 [==============================] - 3s 10ms/step - loss: 2.7815e-04\n",
      "Epoch 162/200\n",
      "290/290 [==============================] - 3s 10ms/step - loss: 2.8419e-04\n",
      "Epoch 163/200\n",
      "290/290 [==============================] - 3s 10ms/step - loss: 2.8260e-04\n",
      "Epoch 164/200\n",
      "290/290 [==============================] - 3s 10ms/step - loss: 2.8765e-04\n",
      "Epoch 165/200\n",
      "290/290 [==============================] - 3s 10ms/step - loss: 2.9877e-04\n",
      "Epoch 166/200\n",
      "290/290 [==============================] - 3s 10ms/step - loss: 2.8409e-04\n",
      "Epoch 167/200\n",
      "290/290 [==============================] - 3s 10ms/step - loss: 2.8005e-04\n",
      "Epoch 168/200\n",
      "290/290 [==============================] - 3s 10ms/step - loss: 2.9141e-04\n",
      "Epoch 169/200\n",
      "290/290 [==============================] - 3s 10ms/step - loss: 2.8061e-04\n",
      "Epoch 170/200\n",
      "290/290 [==============================] - 3s 10ms/step - loss: 2.8081e-04\n",
      "Epoch 171/200\n",
      "290/290 [==============================] - 3s 10ms/step - loss: 3.0073e-04\n",
      "Epoch 172/200\n",
      "290/290 [==============================] - 3s 10ms/step - loss: 2.7894e-04\n",
      "Epoch 173/200\n",
      "290/290 [==============================] - 3s 10ms/step - loss: 2.9190e-04\n",
      "Epoch 174/200\n",
      "290/290 [==============================] - 3s 10ms/step - loss: 2.7959e-04\n",
      "Epoch 175/200\n",
      "290/290 [==============================] - 3s 10ms/step - loss: 2.8362e-04\n",
      "Epoch 176/200\n",
      "290/290 [==============================] - 3s 10ms/step - loss: 2.8612e-04\n",
      "Epoch 177/200\n",
      "290/290 [==============================] - 3s 10ms/step - loss: 2.7911e-04\n",
      "Epoch 178/200\n",
      "290/290 [==============================] - 3s 10ms/step - loss: 2.8837e-04\n",
      "Epoch 179/200\n",
      "290/290 [==============================] - 3s 10ms/step - loss: 2.8153e-04\n",
      "Epoch 180/200\n",
      "290/290 [==============================] - 3s 10ms/step - loss: 2.7594e-04\n",
      "Epoch 181/200\n",
      "290/290 [==============================] - 3s 10ms/step - loss: 2.7833e-04\n",
      "Epoch 182/200\n",
      "290/290 [==============================] - 3s 12ms/step - loss: 2.8592e-04\n",
      "Epoch 183/200\n",
      "290/290 [==============================] - 3s 12ms/step - loss: 2.8720e-04\n",
      "Epoch 184/200\n",
      "290/290 [==============================] - 3s 11ms/step - loss: 2.7388e-04\n",
      "Epoch 185/200\n",
      "290/290 [==============================] - 3s 11ms/step - loss: 2.8985e-04\n",
      "Epoch 186/200\n"
     ]
    },
    {
     "name": "stdout",
     "output_type": "stream",
     "text": [
      "290/290 [==============================] - 3s 11ms/step - loss: 2.8716e-04\n",
      "Epoch 187/200\n",
      "290/290 [==============================] - 3s 11ms/step - loss: 2.8904e-04\n",
      "Epoch 188/200\n",
      "290/290 [==============================] - 3s 11ms/step - loss: 2.8637e-04\n",
      "Epoch 189/200\n",
      "290/290 [==============================] - 3s 11ms/step - loss: 2.8109e-04\n",
      "Epoch 190/200\n",
      "290/290 [==============================] - 3s 11ms/step - loss: 2.8585e-04\n",
      "Epoch 191/200\n",
      "290/290 [==============================] - 3s 11ms/step - loss: 2.8331e-04\n",
      "Epoch 192/200\n",
      "290/290 [==============================] - 3s 11ms/step - loss: 2.7012e-04\n",
      "Epoch 193/200\n",
      "290/290 [==============================] - 3s 11ms/step - loss: 2.8228e-04\n",
      "Epoch 194/200\n",
      "290/290 [==============================] - 3s 12ms/step - loss: 2.9024e-04\n",
      "Epoch 195/200\n",
      "290/290 [==============================] - 3s 11ms/step - loss: 2.8801e-04\n",
      "Epoch 196/200\n",
      "290/290 [==============================] - 3s 11ms/step - loss: 2.8212e-04\n",
      "Epoch 197/200\n",
      "290/290 [==============================] - 3s 11ms/step - loss: 2.8151e-04\n",
      "Epoch 198/200\n",
      "290/290 [==============================] - 3s 12ms/step - loss: 2.8691e-04\n",
      "Epoch 199/200\n",
      "290/290 [==============================] - 3s 11ms/step - loss: 2.8757e-04\n",
      "Epoch 200/200\n",
      "290/290 [==============================] - 3s 11ms/step - loss: 2.8004e-04\n"
     ]
    },
    {
     "data": {
      "text/plain": [
       "<keras.callbacks.History at 0x2138dd714f0>"
      ]
     },
     "execution_count": 126,
     "metadata": {},
     "output_type": "execute_result"
    }
   ],
   "source": [
    "model2.fit(X_train,y_train,batch_size=4,epochs=200)"
   ]
  },
  {
   "cell_type": "code",
   "execution_count": 128,
   "id": "65ae534b",
   "metadata": {},
   "outputs": [
    {
     "name": "stdout",
     "output_type": "stream",
     "text": [
      "2/2 [==============================] - 0s 3ms/step\n"
     ]
    }
   ],
   "source": [
    "predict2 = model2.predict(X_final)\n",
    "normal2 = scaller.inverse_transform(predict2)"
   ]
  },
  {
   "cell_type": "code",
   "execution_count": 129,
   "id": "559b2229",
   "metadata": {},
   "outputs": [
    {
     "data": {
      "image/png": "[encoded data removed]",
      "text/plain": [
       "<Figure size 640x320 with 1 Axes>"
      ]
     },
     "metadata": {},
     "output_type": "display_data"
    }
   ],
   "source": [
    "plt.figure(figsize=(8,4), dpi=80, facecolor='w', edgecolor='k')\n",
    "plt.plot(test,color=\"orange\",label=\"Real value\")\n",
    "plt.plot(normal2,color=\"c\",label=\"LSTM Modified predicted result\")\n",
    "plt.legend()\n",
    "plt.xlabel(\"Days\")\n",
    "plt.ylabel(\"Values\")\n",
    "plt.grid(True)\n",
    "plt.show()"
   ]
  },
  {
   "cell_type": "code",
   "execution_count": 130,
   "id": "d2ea9695",
   "metadata": {},
   "outputs": [
    {
     "data": {
      "image/png": "[encoded data removed]",
      "text/plain": [
       "<Figure size 640x320 with 1 Axes>"
      ]
     },
     "metadata": {},
     "output_type": "display_data"
    }
   ],
   "source": [
    "plt.figure(figsize=(8,4), dpi=80, facecolor='w', edgecolor='k')\n",
    "plt.plot(test,color=\"orange\",label=\"Real value\")\n",
    "plt.plot(normal,color=\"green\",label=\"LSTM predicted result\")\n",
    "plt.plot(normal2,color=\"c\",label=\"LSTM Modified predicted result\")\n",
    "plt.legend()\n",
    "plt.xlabel(\"Days\")\n",
    "plt.ylabel(\"Values\")\n",
    "plt.grid(True)\n",
    "plt.show()"
   ]
  },
  {
   "cell_type": "code",
   "execution_count": 132,
   "id": "4d86f70a",
   "metadata": {},
   "outputs": [
    {
     "data": {
      "text/plain": [
       "0.6746876952642713"
      ]
     },
     "execution_count": 132,
     "metadata": {},
     "output_type": "execute_result"
    }
   ],
   "source": [
    "r2_score(test,normal2)"
   ]
  },
  {
   "cell_type": "code",
   "execution_count": 133,
   "id": "8b78d0e4",
   "metadata": {},
   "outputs": [
    {
     "data": {
      "text/html": [
       "<div>\n",
       "<style scoped>\n",
       "    .dataframe tbody tr th:only-of-type {\n",
       "        vertical-align: middle;\n",
       "    }\n",
       "\n",
       "    .dataframe tbody tr th {\n",
       "        vertical-align: top;\n",
       "    }\n",
       "\n",
       "    .dataframe thead th {\n",
       "        text-align: right;\n",
       "    }\n",
       "</style>\n",
       "<table border=\"1\" class=\"dataframe\">\n",
       "  <thead>\n",
       "    <tr style=\"text-align: right;\">\n",
       "      <th></th>\n",
       "      <th>Date</th>\n",
       "      <th>Open</th>\n",
       "      <th>High</th>\n",
       "      <th>Low</th>\n",
       "      <th>Close</th>\n",
       "      <th>Volume</th>\n",
       "    </tr>\n",
       "  </thead>\n",
       "  <tbody>\n",
       "    <tr>\n",
       "      <th>0</th>\n",
       "      <td>1/3/2017</td>\n",
       "      <td>778.81</td>\n",
       "      <td>789.63</td>\n",
       "      <td>775.80</td>\n",
       "      <td>786.14</td>\n",
       "      <td>1,657,300</td>\n",
       "    </tr>\n",
       "    <tr>\n",
       "      <th>1</th>\n",
       "      <td>1/4/2017</td>\n",
       "      <td>788.36</td>\n",
       "      <td>791.34</td>\n",
       "      <td>783.16</td>\n",
       "      <td>786.90</td>\n",
       "      <td>1,073,000</td>\n",
       "    </tr>\n",
       "    <tr>\n",
       "      <th>2</th>\n",
       "      <td>1/5/2017</td>\n",
       "      <td>786.08</td>\n",
       "      <td>794.48</td>\n",
       "      <td>785.02</td>\n",
       "      <td>794.02</td>\n",
       "      <td>1,335,200</td>\n",
       "    </tr>\n",
       "    <tr>\n",
       "      <th>3</th>\n",
       "      <td>1/6/2017</td>\n",
       "      <td>795.26</td>\n",
       "      <td>807.90</td>\n",
       "      <td>792.20</td>\n",
       "      <td>806.15</td>\n",
       "      <td>1,640,200</td>\n",
       "    </tr>\n",
       "    <tr>\n",
       "      <th>4</th>\n",
       "      <td>1/9/2017</td>\n",
       "      <td>806.40</td>\n",
       "      <td>809.97</td>\n",
       "      <td>802.83</td>\n",
       "      <td>806.65</td>\n",
       "      <td>1,272,400</td>\n",
       "    </tr>\n",
       "  </tbody>\n",
       "</table>\n",
       "</div>"
      ],
      "text/plain": [
       "       Date    Open    High     Low   Close     Volume\n",
       "0  1/3/2017  778.81  789.63  775.80  786.14  1,657,300\n",
       "1  1/4/2017  788.36  791.34  783.16  786.90  1,073,000\n",
       "2  1/5/2017  786.08  794.48  785.02  794.02  1,335,200\n",
       "3  1/6/2017  795.26  807.90  792.20  806.15  1,640,200\n",
       "4  1/9/2017  806.40  809.97  802.83  806.65  1,272,400"
      ]
     },
     "execution_count": 133,
     "metadata": {},
     "output_type": "execute_result"
    }
   ],
   "source": [
    "t = pd.read_csv(\"Google_Stock_Price_Test.csv\")\n",
    "t.head()"
   ]
  },
  {
   "cell_type": "code",
   "execution_count": 134,
   "id": "c95bddab",
   "metadata": {},
   "outputs": [
    {
     "data": {
      "text/plain": [
       "(20,)"
      ]
     },
     "execution_count": 134,
     "metadata": {},
     "output_type": "execute_result"
    }
   ],
   "source": [
    "tt = t['Open'].values\n",
    "tt.shape"
   ]
  },
  {
   "cell_type": "code",
   "execution_count": 135,
   "id": "66022e7c",
   "metadata": {},
   "outputs": [
    {
     "data": {
      "text/plain": [
       "(20, 1)"
      ]
     },
     "execution_count": 135,
     "metadata": {},
     "output_type": "execute_result"
    }
   ],
   "source": [
    "tt =tt.reshape(-1,1)\n",
    "tt.shape"
   ]
  },
  {
   "cell_type": "code",
   "execution_count": 136,
   "id": "031bb897",
   "metadata": {},
   "outputs": [
    {
     "data": {
      "text/plain": [
       "array([[0.96257127],\n",
       "       [0.98096779],\n",
       "       [0.97657574],\n",
       "       [0.99425952],\n",
       "       [1.01571891],\n",
       "       [1.01853136],\n",
       "       [1.01302204],\n",
       "       [1.0171444 ],\n",
       "       [1.01779935],\n",
       "       [1.01702882],\n",
       "       [1.01458237],\n",
       "       [1.0132532 ],\n",
       "       [1.01670134],\n",
       "       [1.0173563 ],\n",
       "       [1.04634767],\n",
       "       [1.06044845],\n",
       "       [1.07622515],\n",
       "       [1.07025351],\n",
       "       [1.03163045],\n",
       "       [0.99734166]])"
      ]
     },
     "execution_count": 136,
     "metadata": {},
     "output_type": "execute_result"
    }
   ],
   "source": [
    "ts = scaller.transform(tt)\n",
    "ts"
   ]
  },
  {
   "cell_type": "code",
   "execution_count": null,
   "id": "a6ddc406",
   "metadata": {},
   "outputs": [],
   "source": [
    "tf = []\n",
    "for i in range(ts.shape[0],timesteps):\n",
    "    tf.append(tf[])"
   ]
  }
 ],
 "metadata": {
  "kernelspec": {
   "display_name": "Python 3 (ipykernel)",
   "language": "python",
   "name": "python3"
  },
  "language_info": {
   "codemirror_mode": {
    "name": "ipython",
    "version": 3
   },
   "file_extension": ".py",
   "mimetype": "text/x-python",
   "name": "python",
   "nbconvert_exporter": "python",
   "pygments_lexer": "ipython3",
   "version": "3.9.12"
  }
 },
 "nbformat": 4,
 "nbformat_minor": 5
}
