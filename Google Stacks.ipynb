{
 "cells": [
  {
   "cell_type": "code",
   "execution_count": 35,
   "id": "fb9935da",
   "metadata": {},
   "outputs": [],
   "source": [
    "import pandas as pd\n",
    "import numpy as np\n",
    "import seaborn as sns\n",
    "import matplotlib.pyplot as plt\n",
    "import tensorflow as tf\n",
    "\n",
    "from sklearn.model_selection import train_test_split,TimeSeriesSplit,RandomizedSearchCV,GridSearchCV\n",
    "from sklearn.metrics import r2_score,mean_absolute_error,mean_squared_error\n",
    "from sklearn.linear_model import LinearRegression\n",
    "from sklearn.ensemble import RandomForestRegressor\n",
    "from sklearn.tree import DecisionTreeRegressor\n",
    "from sklearn.preprocessing import StandardScaler,MinMaxScaler\n",
    "\n",
    "from xgboost import XGBRegressor\n",
    "\n",
    "from tensorflow import keras\n",
    "from keras.layers import LSTM,Dense,Dropout\n",
    "from keras.models import Sequential\n",
    "\n"
   ]
  },
  {
   "cell_type": "code",
   "execution_count": 26,
   "id": "65d383c0",
   "metadata": {},
   "outputs": [
    {
     "data": {
      "text/html": [
       "<div>\n",
       "<style scoped>\n",
       "    .dataframe tbody tr th:only-of-type {\n",
       "        vertical-align: middle;\n",
       "    }\n",
       "\n",
       "    .dataframe tbody tr th {\n",
       "        vertical-align: top;\n",
       "    }\n",
       "\n",
       "    .dataframe thead th {\n",
       "        text-align: right;\n",
       "    }\n",
       "</style>\n",
       "<table border=\"1\" class=\"dataframe\">\n",
       "  <thead>\n",
       "    <tr style=\"text-align: right;\">\n",
       "      <th></th>\n",
       "      <th>Date</th>\n",
       "      <th>Open</th>\n",
       "      <th>High</th>\n",
       "      <th>Low</th>\n",
       "      <th>Close</th>\n",
       "      <th>Volume</th>\n",
       "    </tr>\n",
       "  </thead>\n",
       "  <tbody>\n",
       "    <tr>\n",
       "      <th>0</th>\n",
       "      <td>1/3/2012</td>\n",
       "      <td>325.25</td>\n",
       "      <td>332.83</td>\n",
       "      <td>324.97</td>\n",
       "      <td>663.59</td>\n",
       "      <td>7,380,500</td>\n",
       "    </tr>\n",
       "    <tr>\n",
       "      <th>1</th>\n",
       "      <td>1/4/2012</td>\n",
       "      <td>331.27</td>\n",
       "      <td>333.87</td>\n",
       "      <td>329.08</td>\n",
       "      <td>666.45</td>\n",
       "      <td>5,749,400</td>\n",
       "    </tr>\n",
       "    <tr>\n",
       "      <th>2</th>\n",
       "      <td>1/5/2012</td>\n",
       "      <td>329.83</td>\n",
       "      <td>330.75</td>\n",
       "      <td>326.89</td>\n",
       "      <td>657.21</td>\n",
       "      <td>6,590,300</td>\n",
       "    </tr>\n",
       "    <tr>\n",
       "      <th>3</th>\n",
       "      <td>1/6/2012</td>\n",
       "      <td>328.34</td>\n",
       "      <td>328.77</td>\n",
       "      <td>323.68</td>\n",
       "      <td>648.24</td>\n",
       "      <td>5,405,900</td>\n",
       "    </tr>\n",
       "    <tr>\n",
       "      <th>4</th>\n",
       "      <td>1/9/2012</td>\n",
       "      <td>322.04</td>\n",
       "      <td>322.29</td>\n",
       "      <td>309.46</td>\n",
       "      <td>620.76</td>\n",
       "      <td>11,688,800</td>\n",
       "    </tr>\n",
       "  </tbody>\n",
       "</table>\n",
       "</div>"
      ],
      "text/plain": [
       "       Date    Open    High     Low   Close      Volume\n",
       "0  1/3/2012  325.25  332.83  324.97  663.59   7,380,500\n",
       "1  1/4/2012  331.27  333.87  329.08  666.45   5,749,400\n",
       "2  1/5/2012  329.83  330.75  326.89  657.21   6,590,300\n",
       "3  1/6/2012  328.34  328.77  323.68  648.24   5,405,900\n",
       "4  1/9/2012  322.04  322.29  309.46  620.76  11,688,800"
      ]
     },
     "execution_count": 26,
     "metadata": {},
     "output_type": "execute_result"
    }
   ],
   "source": [
    "data = pd.read_csv('Google_Stock_Price_Train.csv')\n",
    "data.head()"
   ]
  },
  {
   "cell_type": "code",
   "execution_count": 27,
   "id": "b43478a3",
   "metadata": {},
   "outputs": [
    {
     "data": {
      "text/plain": [
       "array([325.25, 331.27, 329.83, ..., 793.7 , 783.33, 782.75])"
      ]
     },
     "execution_count": 27,
     "metadata": {},
     "output_type": "execute_result"
    }
   ],
   "source": [
    "data = data['Open'].values\n",
    "data"
   ]
  },
  {
   "cell_type": "code",
   "execution_count": 28,
   "id": "67a118fa",
   "metadata": {},
   "outputs": [
    {
     "data": {
      "text/plain": [
       "array([[325.25],\n",
       "       [331.27],\n",
       "       [329.83],\n",
       "       ...,\n",
       "       [793.7 ],\n",
       "       [783.33],\n",
       "       [782.75]])"
      ]
     },
     "execution_count": 28,
     "metadata": {},
     "output_type": "execute_result"
    }
   ],
   "source": [
    "data = data.reshape(-1,1)\n",
    "data"
   ]
  },
  {
   "cell_type": "code",
   "execution_count": 29,
   "id": "27e4241a",
   "metadata": {},
   "outputs": [],
   "source": [
    "train = data[:data.shape[0]-50]\n",
    "test = data[len(train):]"
   ]
  },
  {
   "cell_type": "code",
   "execution_count": 30,
   "id": "75d9702a",
   "metadata": {},
   "outputs": [],
   "source": [
    "scaller = MinMaxScaler()\n",
    "train_scaled = scaller.fit_transform(train)"
   ]
  },
  {
   "cell_type": "code",
   "execution_count": 31,
   "id": "02246ca2",
   "metadata": {},
   "outputs": [],
   "source": [
    "X_train = []\n",
    "y_train = []\n",
    "timesteps = 50\n",
    "\n",
    "for i in range(timesteps,train_scaled.shape[0]):\n",
    "    X_train.append(train_scaled[i-timesteps:i,0])\n",
    "    y_train.append(train_scaled[i,0])"
   ]
  },
  {
   "cell_type": "code",
   "execution_count": 32,
   "id": "e1df2231",
   "metadata": {},
   "outputs": [
    {
     "data": {
      "text/plain": [
       "(1158, 50)"
      ]
     },
     "execution_count": 32,
     "metadata": {},
     "output_type": "execute_result"
    }
   ],
   "source": [
    "X_train = np.array(X_train)\n",
    "y_train = np.array(y_train)\n",
    "X_train.shape"
   ]
  },
  {
   "cell_type": "code",
   "execution_count": 33,
   "id": "46b750b2",
   "metadata": {},
   "outputs": [
    {
     "data": {
      "text/plain": [
       "(1158, 50, 1)"
      ]
     },
     "execution_count": 33,
     "metadata": {},
     "output_type": "execute_result"
    }
   ],
   "source": [
    "X_train = X_train.reshape(X_train.shape[0],X_train.shape[1],1)\n",
    "X_train.shape"
   ]
  },
  {
   "cell_type": "code",
   "execution_count": 36,
   "id": "75e8feed",
   "metadata": {},
   "outputs": [],
   "source": [
    "model = Sequential()\n",
    "model.add(LSTM(32,activation='tanh',input_shape=(X_train.shape[1],1),return_sequences=True))\n",
    "model.add(Dropout(0.2))\n",
    "model.add(LSTM(4,activation='tanh',return_sequences=False))\n",
    "model.add(Dropout(0.2))\n",
    "model.add(Dense(1))\n",
    "model.compile(optimizer='adam',loss='mean_squared_error')"
   ]
  },
  {
   "cell_type": "code",
   "execution_count": null,
   "id": "33a9645f",
   "metadata": {},
   "outputs": [
    {
     "name": "stdout",
     "output_type": "stream",
     "text": [
      "Epoch 1/150\n",
      "37/37 [==============================] - 4s 23ms/step - loss: 0.0788\n",
      "Epoch 2/150\n",
      "37/37 [==============================] - 1s 23ms/step - loss: 0.0233\n",
      "Epoch 3/150\n",
      "37/37 [==============================] - 1s 24ms/step - loss: 0.0221\n",
      "Epoch 4/150\n",
      "37/37 [==============================] - 1s 26ms/step - loss: 0.0197\n",
      "Epoch 5/150\n",
      "37/37 [==============================] - 1s 24ms/step - loss: 0.0182\n",
      "Epoch 6/150\n",
      "37/37 [==============================] - 1s 24ms/step - loss: 0.0180\n",
      "Epoch 7/150\n",
      "37/37 [==============================] - 1s 23ms/step - loss: 0.0172\n",
      "Epoch 8/150\n",
      "37/37 [==============================] - 1s 23ms/step - loss: 0.0162\n",
      "Epoch 9/150\n",
      "37/37 [==============================] - 1s 25ms/step - loss: 0.0171\n",
      "Epoch 10/150\n",
      "37/37 [==============================] - 1s 24ms/step - loss: 0.0134\n",
      "Epoch 11/150\n",
      "37/37 [==============================] - 1s 26ms/step - loss: 0.0150\n",
      "Epoch 12/150\n",
      "37/37 [==============================] - 1s 25ms/step - loss: 0.0139\n",
      "Epoch 13/150\n",
      "37/37 [==============================] - 1s 23ms/step - loss: 0.0149\n",
      "Epoch 14/150\n",
      "37/37 [==============================] - 1s 23ms/step - loss: 0.0134\n",
      "Epoch 15/150\n",
      "37/37 [==============================] - 1s 24ms/step - loss: 0.0123\n",
      "Epoch 16/150\n",
      "37/37 [==============================] - 1s 27ms/step - loss: 0.0124\n",
      "Epoch 17/150\n",
      "37/37 [==============================] - 1s 24ms/step - loss: 0.0110\n",
      "Epoch 18/150\n",
      "37/37 [==============================] - 1s 25ms/step - loss: 0.0119\n",
      "Epoch 19/150\n",
      "37/37 [==============================] - 1s 24ms/step - loss: 0.0111\n",
      "Epoch 20/150\n",
      "37/37 [==============================] - 1s 23ms/step - loss: 0.0102\n",
      "Epoch 21/150\n",
      "37/37 [==============================] - 1s 23ms/step - loss: 0.0107\n",
      "Epoch 22/150\n",
      "37/37 [==============================] - 1s 24ms/step - loss: 0.0089\n",
      "Epoch 23/150\n",
      "37/37 [==============================] - 1s 25ms/step - loss: 0.0089\n",
      "Epoch 24/150\n",
      "37/37 [==============================] - 1s 24ms/step - loss: 0.0085\n",
      "Epoch 25/150\n",
      "37/37 [==============================] - 1s 25ms/step - loss: 0.0081\n",
      "Epoch 26/150\n",
      "37/37 [==============================] - 1s 27ms/step - loss: 0.0086\n",
      "Epoch 27/150\n",
      "37/37 [==============================] - 1s 27ms/step - loss: 0.0085\n",
      "Epoch 28/150\n",
      "37/37 [==============================] - 1s 27ms/step - loss: 0.0074\n",
      "Epoch 29/150\n",
      "37/37 [==============================] - 1s 26ms/step - loss: 0.0080\n",
      "Epoch 30/150\n",
      "37/37 [==============================] - 1s 26ms/step - loss: 0.0075\n",
      "Epoch 31/150\n",
      "37/37 [==============================] - 1s 26ms/step - loss: 0.0060\n",
      "Epoch 32/150\n",
      "37/37 [==============================] - 1s 24ms/step - loss: 0.0074\n",
      "Epoch 33/150\n",
      "37/37 [==============================] - 1s 32ms/step - loss: 0.0075\n",
      "Epoch 34/150\n",
      "37/37 [==============================] - 1s 26ms/step - loss: 0.0066\n",
      "Epoch 35/150\n",
      "37/37 [==============================] - 1s 23ms/step - loss: 0.0066\n",
      "Epoch 36/150\n",
      "37/37 [==============================] - 1s 26ms/step - loss: 0.0065\n",
      "Epoch 37/150\n",
      "37/37 [==============================] - 1s 37ms/step - loss: 0.0059\n",
      "Epoch 38/150\n",
      "37/37 [==============================] - 1s 33ms/step - loss: 0.0063\n",
      "Epoch 39/150\n",
      "37/37 [==============================] - 1s 34ms/step - loss: 0.0062\n",
      "Epoch 40/150\n",
      "37/37 [==============================] - 1s 36ms/step - loss: 0.0067\n",
      "Epoch 41/150\n",
      "37/37 [==============================] - 1s 37ms/step - loss: 0.0059\n",
      "Epoch 42/150\n",
      "37/37 [==============================] - 1s 34ms/step - loss: 0.0058\n",
      "Epoch 43/150\n",
      "37/37 [==============================] - 1s 26ms/step - loss: 0.0057\n",
      "Epoch 44/150\n",
      "37/37 [==============================] - 1s 32ms/step - loss: 0.0065\n",
      "Epoch 45/150\n",
      "37/37 [==============================] - 1s 34ms/step - loss: 0.0060\n",
      "Epoch 46/150\n",
      "37/37 [==============================] - 1s 28ms/step - loss: 0.0059\n",
      "Epoch 47/150\n",
      "37/37 [==============================] - 1s 25ms/step - loss: 0.0062\n",
      "Epoch 48/150\n",
      "37/37 [==============================] - 1s 27ms/step - loss: 0.0056\n",
      "Epoch 49/150\n",
      "37/37 [==============================] - 1s 23ms/step - loss: 0.0058\n",
      "Epoch 50/150\n",
      "37/37 [==============================] - 1s 23ms/step - loss: 0.0056\n",
      "Epoch 51/150\n",
      "37/37 [==============================] - 1s 23ms/step - loss: 0.0060\n",
      "Epoch 52/150\n",
      "37/37 [==============================] - 1s 24ms/step - loss: 0.0062\n",
      "Epoch 53/150\n",
      "37/37 [==============================] - 1s 23ms/step - loss: 0.0058\n",
      "Epoch 54/150\n",
      "37/37 [==============================] - 1s 25ms/step - loss: 0.0055\n",
      "Epoch 55/150\n",
      "37/37 [==============================] - 1s 23ms/step - loss: 0.0060\n",
      "Epoch 56/150\n",
      "37/37 [==============================] - 1s 24ms/step - loss: 0.0055\n",
      "Epoch 57/150\n",
      "37/37 [==============================] - 1s 28ms/step - loss: 0.0059\n",
      "Epoch 58/150\n",
      "37/37 [==============================] - 1s 33ms/step - loss: 0.0052\n",
      "Epoch 59/150\n",
      "37/37 [==============================] - 1s 26ms/step - loss: 0.0054\n",
      "Epoch 60/150\n",
      "37/37 [==============================] - 1s 33ms/step - loss: 0.0050\n",
      "Epoch 61/150\n",
      "37/37 [==============================] - 1s 34ms/step - loss: 0.0057\n",
      "Epoch 62/150\n",
      "37/37 [==============================] - 1s 25ms/step - loss: 0.0059\n",
      "Epoch 63/150\n",
      "37/37 [==============================] - 1s 30ms/step - loss: 0.0056\n",
      "Epoch 64/150\n",
      "37/37 [==============================] - 1s 25ms/step - loss: 0.0054\n",
      "Epoch 65/150\n",
      "37/37 [==============================] - 1s 25ms/step - loss: 0.0053\n",
      "Epoch 66/150\n",
      "37/37 [==============================] - 1s 28ms/step - loss: 0.0052\n",
      "Epoch 67/150\n",
      "37/37 [==============================] - 1s 29ms/step - loss: 0.0058\n",
      "Epoch 68/150\n",
      "37/37 [==============================] - 1s 26ms/step - loss: 0.0058\n",
      "Epoch 69/150\n",
      "37/37 [==============================] - 1s 29ms/step - loss: 0.0056\n",
      "Epoch 70/150\n",
      "37/37 [==============================] - 1s 26ms/step - loss: 0.0057\n",
      "Epoch 71/150\n",
      "37/37 [==============================] - 1s 28ms/step - loss: 0.0059\n",
      "Epoch 72/150\n",
      "37/37 [==============================] - 1s 23ms/step - loss: 0.0056\n",
      "Epoch 73/150\n",
      "37/37 [==============================] - 1s 24ms/step - loss: 0.0059\n",
      "Epoch 74/150\n",
      "37/37 [==============================] - 1s 25ms/step - loss: 0.0054\n",
      "Epoch 75/150\n",
      "37/37 [==============================] - 1s 26ms/step - loss: 0.0051\n",
      "Epoch 76/150\n",
      "37/37 [==============================] - 1s 24ms/step - loss: 0.0052\n",
      "Epoch 77/150\n",
      "37/37 [==============================] - 1s 24ms/step - loss: 0.0045\n",
      "Epoch 78/150\n",
      "37/37 [==============================] - 1s 24ms/step - loss: 0.0053\n",
      "Epoch 79/150\n",
      "37/37 [==============================] - 1s 23ms/step - loss: 0.0049\n",
      "Epoch 80/150\n",
      "37/37 [==============================] - 1s 25ms/step - loss: 0.0053\n",
      "Epoch 81/150\n",
      "37/37 [==============================] - 1s 23ms/step - loss: 0.0053\n",
      "Epoch 82/150\n",
      "37/37 [==============================] - 1s 25ms/step - loss: 0.0054\n",
      "Epoch 83/150\n",
      "37/37 [==============================] - 1s 24ms/step - loss: 0.0050\n",
      "Epoch 84/150\n",
      "37/37 [==============================] - 1s 24ms/step - loss: 0.0051\n",
      "Epoch 85/150\n",
      "37/37 [==============================] - 1s 24ms/step - loss: 0.0053\n",
      "Epoch 86/150\n",
      "37/37 [==============================] - 1s 24ms/step - loss: 0.0051\n",
      "Epoch 87/150\n",
      "37/37 [==============================] - 1s 24ms/step - loss: 0.0053\n",
      "Epoch 88/150\n",
      "12/37 [========>.....................] - ETA: 0s - loss: 0.0052"
     ]
    }
   ],
   "source": [
    "model.fit(X_train,y_train,batch_size=32,epochs=150)"
   ]
  },
  {
   "cell_type": "code",
   "execution_count": null,
   "id": "d2f41c1c",
   "metadata": {},
   "outputs": [],
   "source": []
  },
  {
   "cell_type": "code",
   "execution_count": null,
   "id": "e88413c4",
   "metadata": {},
   "outputs": [],
   "source": []
  },
  {
   "cell_type": "code",
   "execution_count": null,
   "id": "48f0a73c",
   "metadata": {},
   "outputs": [],
   "source": []
  }
 ],
 "metadata": {
  "kernelspec": {
   "display_name": "Python 3 (ipykernel)",
   "language": "python",
   "name": "python3"
  },
  "language_info": {
   "codemirror_mode": {
    "name": "ipython",
    "version": 3
   },
   "file_extension": ".py",
   "mimetype": "text/x-python",
   "name": "python",
   "nbconvert_exporter": "python",
   "pygments_lexer": "ipython3",
   "version": "3.9.12"
  }
 },
 "nbformat": 4,
 "nbformat_minor": 5
}
