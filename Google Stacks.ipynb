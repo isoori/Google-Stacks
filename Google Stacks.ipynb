{
 "cells": [
  {
   "cell_type": "code",
   "execution_count": 35,
   "id": "8e22fb64",
   "metadata": {},
   "outputs": [],
   "source": [
    "import pandas as pd\n",
    "import numpy as np\n",
    "import seaborn as sns\n",
    "import matplotlib.pyplot as plt\n",
    "import tensorflow as tf\n",
    "\n",
    "from sklearn.model_selection import train_test_split,TimeSeriesSplit,RandomizedSearchCV,GridSearchCV\n",
    "from sklearn.metrics import r2_score,mean_absolute_error,mean_squared_error\n",
    "from sklearn.linear_model import LinearRegression\n",
    "from sklearn.ensemble import RandomForestRegressor\n",
    "from sklearn.tree import DecisionTreeRegressor\n",
    "from sklearn.preprocessing import StandardScaler,MinMaxScaler\n",
    "\n",
    "from xgboost import XGBRegressor\n",
    "\n",
    "from tensorflow import keras\n",
    "from keras.layers import LSTM,Dense,Dropout\n",
    "from keras.models import Sequential\n",
    "\n"
   ]
  },
  {
   "cell_type": "code",
   "execution_count": 65,
   "id": "51c6442e",
   "metadata": {},
   "outputs": [
    {
     "data": {
      "text/html": [
       "<div>\n",
       "<style scoped>\n",
       "    .dataframe tbody tr th:only-of-type {\n",
       "        vertical-align: middle;\n",
       "    }\n",
       "\n",
       "    .dataframe tbody tr th {\n",
       "        vertical-align: top;\n",
       "    }\n",
       "\n",
       "    .dataframe thead th {\n",
       "        text-align: right;\n",
       "    }\n",
       "</style>\n",
       "<table border=\"1\" class=\"dataframe\">\n",
       "  <thead>\n",
       "    <tr style=\"text-align: right;\">\n",
       "      <th></th>\n",
       "      <th>Date</th>\n",
       "      <th>Open</th>\n",
       "      <th>High</th>\n",
       "      <th>Low</th>\n",
       "      <th>Close</th>\n",
       "      <th>Volume</th>\n",
       "    </tr>\n",
       "  </thead>\n",
       "  <tbody>\n",
       "    <tr>\n",
       "      <th>0</th>\n",
       "      <td>1/3/2012</td>\n",
       "      <td>325.25</td>\n",
       "      <td>332.83</td>\n",
       "      <td>324.97</td>\n",
       "      <td>663.59</td>\n",
       "      <td>7,380,500</td>\n",
       "    </tr>\n",
       "    <tr>\n",
       "      <th>1</th>\n",
       "      <td>1/4/2012</td>\n",
       "      <td>331.27</td>\n",
       "      <td>333.87</td>\n",
       "      <td>329.08</td>\n",
       "      <td>666.45</td>\n",
       "      <td>5,749,400</td>\n",
       "    </tr>\n",
       "    <tr>\n",
       "      <th>2</th>\n",
       "      <td>1/5/2012</td>\n",
       "      <td>329.83</td>\n",
       "      <td>330.75</td>\n",
       "      <td>326.89</td>\n",
       "      <td>657.21</td>\n",
       "      <td>6,590,300</td>\n",
       "    </tr>\n",
       "    <tr>\n",
       "      <th>3</th>\n",
       "      <td>1/6/2012</td>\n",
       "      <td>328.34</td>\n",
       "      <td>328.77</td>\n",
       "      <td>323.68</td>\n",
       "      <td>648.24</td>\n",
       "      <td>5,405,900</td>\n",
       "    </tr>\n",
       "    <tr>\n",
       "      <th>4</th>\n",
       "      <td>1/9/2012</td>\n",
       "      <td>322.04</td>\n",
       "      <td>322.29</td>\n",
       "      <td>309.46</td>\n",
       "      <td>620.76</td>\n",
       "      <td>11,688,800</td>\n",
       "    </tr>\n",
       "  </tbody>\n",
       "</table>\n",
       "</div>"
      ],
      "text/plain": [
       "       Date    Open    High     Low   Close      Volume\n",
       "0  1/3/2012  325.25  332.83  324.97  663.59   7,380,500\n",
       "1  1/4/2012  331.27  333.87  329.08  666.45   5,749,400\n",
       "2  1/5/2012  329.83  330.75  326.89  657.21   6,590,300\n",
       "3  1/6/2012  328.34  328.77  323.68  648.24   5,405,900\n",
       "4  1/9/2012  322.04  322.29  309.46  620.76  11,688,800"
      ]
     },
     "execution_count": 65,
     "metadata": {},
     "output_type": "execute_result"
    }
   ],
   "source": [
    "data = pd.read_csv('Google_Stock_Price_Train.csv')\n",
    "data.head()"
   ]
  },
  {
   "cell_type": "code",
   "execution_count": 66,
   "id": "ccf73855",
   "metadata": {},
   "outputs": [
    {
     "data": {
      "text/plain": [
       "array([325.25, 331.27, 329.83, ..., 793.7 , 783.33, 782.75])"
      ]
     },
     "execution_count": 66,
     "metadata": {},
     "output_type": "execute_result"
    }
   ],
   "source": [
    "data = data['Open'].values\n",
    "data"
   ]
  },
  {
   "cell_type": "code",
   "execution_count": 67,
   "id": "0cc1a2c2",
   "metadata": {},
   "outputs": [
    {
     "data": {
      "text/plain": [
       "array([[325.25],\n",
       "       [331.27],\n",
       "       [329.83],\n",
       "       ...,\n",
       "       [793.7 ],\n",
       "       [783.33],\n",
       "       [782.75]])"
      ]
     },
     "execution_count": 67,
     "metadata": {},
     "output_type": "execute_result"
    }
   ],
   "source": [
    "data = data.reshape(-1,1)\n",
    "data"
   ]
  },
  {
   "cell_type": "code",
   "execution_count": 68,
   "id": "1ba2fae8",
   "metadata": {},
   "outputs": [],
   "source": [
    "train = data[:data.shape[0]-50]\n",
    "test = data[len(train):]"
   ]
  },
  {
   "cell_type": "code",
   "execution_count": null,
   "id": "f62a5fdb",
   "metadata": {},
   "outputs": [],
   "source": []
  },
  {
   "cell_type": "code",
   "execution_count": 69,
   "id": "68665cf3",
   "metadata": {},
   "outputs": [],
   "source": [
    "scaller = MinMaxScaler()\n",
    "train_scaled = scaller.fit_transform(train)"
   ]
  },
  {
   "cell_type": "code",
   "execution_count": 70,
   "id": "c34ab872",
   "metadata": {},
   "outputs": [],
   "source": [
    "X_train = []\n",
    "y_train = []\n",
    "timesteps = 50\n",
    "\n",
    "for i in range(timesteps,train_scaled.shape[0]):\n",
    "    X_train.append(train_scaled[i-timesteps:i,0])\n",
    "    y_train.append(train_scaled[i,0])"
   ]
  },
  {
   "cell_type": "code",
   "execution_count": 71,
   "id": "d15cdbcb",
   "metadata": {},
   "outputs": [
    {
     "data": {
      "text/plain": [
       "(1158, 50)"
      ]
     },
     "execution_count": 71,
     "metadata": {},
     "output_type": "execute_result"
    }
   ],
   "source": [
    "X_train = np.array(X_train)\n",
    "y_train = np.array(y_train)\n",
    "X_train.shape"
   ]
  },
  {
   "cell_type": "code",
   "execution_count": 72,
   "id": "8954f23f",
   "metadata": {},
   "outputs": [
    {
     "data": {
      "text/plain": [
       "(1158, 50, 1)"
      ]
     },
     "execution_count": 72,
     "metadata": {},
     "output_type": "execute_result"
    }
   ],
   "source": [
    "X_train = X_train.reshape(X_train.shape[0],X_train.shape[1],1)\n",
    "X_train.shape"
   ]
  },
  {
   "cell_type": "code",
   "execution_count": 114,
   "id": "357771c8",
   "metadata": {},
   "outputs": [],
   "source": [
    "model = Sequential()\n",
    "model.add(LSTM(10,activation='tanh',input_shape=(50,1),return_sequences=False))\n",
    "model.add(Dense(1))\n",
    "model.compile(optimizer='adam',loss='mean_squared_error')"
   ]
  },
  {
   "cell_type": "code",
   "execution_count": 115,
   "id": "f4bd36be",
   "metadata": {},
   "outputs": [
    {
     "name": "stdout",
     "output_type": "stream",
     "text": [
      "Epoch 1/50\n",
      "1158/1158 [==============================] - 9s 7ms/step - loss: 0.0043\n",
      "Epoch 2/50\n",
      "1158/1158 [==============================] - 8s 7ms/step - loss: 8.8033e-04\n",
      "Epoch 3/50\n",
      "1158/1158 [==============================] - 8s 7ms/step - loss: 6.7722e-04\n",
      "Epoch 4/50\n",
      "1158/1158 [==============================] - 8s 7ms/step - loss: 6.3939e-04\n",
      "Epoch 5/50\n",
      "1158/1158 [==============================] - 8s 7ms/step - loss: 5.4204e-04\n",
      "Epoch 6/50\n",
      "1158/1158 [==============================] - 8s 7ms/step - loss: 5.0358e-04\n",
      "Epoch 7/50\n",
      "1158/1158 [==============================] - 8s 7ms/step - loss: 4.5117e-04\n",
      "Epoch 8/50\n",
      "1158/1158 [==============================] - 8s 6ms/step - loss: 4.6159e-04\n",
      "Epoch 9/50\n",
      "1158/1158 [==============================] - 8s 7ms/step - loss: 4.0945e-04\n",
      "Epoch 10/50\n",
      "1158/1158 [==============================] - 8s 7ms/step - loss: 3.6186e-04\n",
      "Epoch 11/50\n",
      "1158/1158 [==============================] - 8s 7ms/step - loss: 3.7693e-04\n",
      "Epoch 12/50\n",
      "1158/1158 [==============================] - 8s 7ms/step - loss: 3.3980e-04\n",
      "Epoch 13/50\n",
      "1158/1158 [==============================] - 8s 7ms/step - loss: 3.7722e-04\n",
      "Epoch 14/50\n",
      "1158/1158 [==============================] - 8s 7ms/step - loss: 3.4722e-04\n",
      "Epoch 15/50\n",
      "1158/1158 [==============================] - 8s 7ms/step - loss: 3.5348e-04\n",
      "Epoch 16/50\n",
      "1158/1158 [==============================] - 8s 7ms/step - loss: 3.4855e-04\n",
      "Epoch 17/50\n",
      "1158/1158 [==============================] - 8s 7ms/step - loss: 3.4820e-04\n",
      "Epoch 18/50\n",
      "1158/1158 [==============================] - 8s 7ms/step - loss: 3.3193e-04\n",
      "Epoch 19/50\n",
      "1158/1158 [==============================] - 8s 7ms/step - loss: 3.3071e-04\n",
      "Epoch 20/50\n",
      "1158/1158 [==============================] - 8s 7ms/step - loss: 3.3544e-04\n",
      "Epoch 21/50\n",
      "1158/1158 [==============================] - 8s 7ms/step - loss: 3.3552e-04\n",
      "Epoch 22/50\n",
      "1158/1158 [==============================] - 8s 7ms/step - loss: 3.3312e-04\n",
      "Epoch 23/50\n",
      "1158/1158 [==============================] - 8s 7ms/step - loss: 3.3697e-04\n",
      "Epoch 24/50\n",
      "1158/1158 [==============================] - 8s 7ms/step - loss: 3.3664e-04\n",
      "Epoch 25/50\n",
      "1158/1158 [==============================] - 8s 7ms/step - loss: 3.1629e-04\n",
      "Epoch 26/50\n",
      "1158/1158 [==============================] - 8s 7ms/step - loss: 3.3294e-04\n",
      "Epoch 27/50\n",
      "1158/1158 [==============================] - 8s 7ms/step - loss: 3.2330e-04\n",
      "Epoch 28/50\n",
      "1158/1158 [==============================] - 8s 7ms/step - loss: 3.1709e-04\n",
      "Epoch 29/50\n",
      "1158/1158 [==============================] - 8s 7ms/step - loss: 3.2117e-04\n",
      "Epoch 30/50\n",
      "1158/1158 [==============================] - 8s 7ms/step - loss: 3.2668e-04\n",
      "Epoch 31/50\n",
      "1158/1158 [==============================] - 8s 7ms/step - loss: 3.2838e-04\n",
      "Epoch 32/50\n",
      "1158/1158 [==============================] - 8s 7ms/step - loss: 3.1705e-04\n",
      "Epoch 33/50\n",
      "1158/1158 [==============================] - 8s 7ms/step - loss: 3.2589e-04\n",
      "Epoch 34/50\n",
      "1158/1158 [==============================] - 8s 7ms/step - loss: 3.1590e-04\n",
      "Epoch 35/50\n",
      "1158/1158 [==============================] - 8s 7ms/step - loss: 3.3270e-04\n",
      "Epoch 36/50\n",
      "1158/1158 [==============================] - 8s 7ms/step - loss: 3.3227e-04\n",
      "Epoch 37/50\n",
      "1158/1158 [==============================] - 8s 7ms/step - loss: 3.2908e-04\n",
      "Epoch 38/50\n",
      "1158/1158 [==============================] - 8s 7ms/step - loss: 3.2540e-04\n",
      "Epoch 39/50\n",
      "1158/1158 [==============================] - 8s 7ms/step - loss: 3.4235e-04\n",
      "Epoch 40/50\n",
      "1158/1158 [==============================] - 8s 7ms/step - loss: 3.2031e-04\n",
      "Epoch 41/50\n",
      "1158/1158 [==============================] - 7s 6ms/step - loss: 3.1347e-04\n",
      "Epoch 42/50\n",
      "1158/1158 [==============================] - 7s 6ms/step - loss: 3.2790e-04\n",
      "Epoch 43/50\n",
      "1158/1158 [==============================] - 8s 7ms/step - loss: 3.2124e-04\n",
      "Epoch 44/50\n",
      "1158/1158 [==============================] - 8s 7ms/step - loss: 3.1837e-04\n",
      "Epoch 45/50\n",
      "1158/1158 [==============================] - 8s 7ms/step - loss: 3.1986e-04\n",
      "Epoch 46/50\n",
      "1158/1158 [==============================] - 8s 7ms/step - loss: 3.2852e-04\n",
      "Epoch 47/50\n",
      "1158/1158 [==============================] - 8s 7ms/step - loss: 3.2181e-04\n",
      "Epoch 48/50\n",
      "1158/1158 [==============================] - 8s 7ms/step - loss: 3.2473e-04\n",
      "Epoch 49/50\n",
      "1158/1158 [==============================] - 8s 7ms/step - loss: 3.1309e-04\n",
      "Epoch 50/50\n",
      "1158/1158 [==============================] - 8s 7ms/step - loss: 3.0902e-04\n"
     ]
    },
    {
     "data": {
      "text/plain": [
       "<keras.callbacks.History at 0x21383139ac0>"
      ]
     },
     "execution_count": 115,
     "metadata": {},
     "output_type": "execute_result"
    }
   ],
   "source": [
    "model.fit(X_train,y_train,batch_size=1,epochs=50)"
   ]
  },
  {
   "cell_type": "code",
   "execution_count": 116,
   "id": "667afc9b",
   "metadata": {},
   "outputs": [],
   "source": [
    "X_test = data[len(data)-len(test)-timesteps:]\n",
    "X_test_scalled = scaller.transform(X_test)"
   ]
  },
  {
   "cell_type": "code",
   "execution_count": 117,
   "id": "49b05671",
   "metadata": {},
   "outputs": [],
   "source": [
    "X_final = []\n",
    "for i in range(timesteps,X_test_scalled.shape[0]):\n",
    "    X_final.append(X_test_scalled[i-timesteps:i,0])"
   ]
  },
  {
   "cell_type": "code",
   "execution_count": 118,
   "id": "b90b3126",
   "metadata": {},
   "outputs": [
    {
     "data": {
      "text/plain": [
       "(50, 50)"
      ]
     },
     "execution_count": 118,
     "metadata": {},
     "output_type": "execute_result"
    }
   ],
   "source": [
    "X_final = np.array(X_final)\n",
    "X_final.shape"
   ]
  },
  {
   "cell_type": "code",
   "execution_count": 119,
   "id": "7ec1c946",
   "metadata": {},
   "outputs": [],
   "source": [
    "X_final = X_final.reshape(X_final.shape[0],X_final.shape[1],1)"
   ]
  },
  {
   "cell_type": "code",
   "execution_count": 120,
   "id": "7c60e160",
   "metadata": {},
   "outputs": [
    {
     "data": {
      "text/plain": [
       "(50, 50, 1)"
      ]
     },
     "execution_count": 120,
     "metadata": {},
     "output_type": "execute_result"
    }
   ],
   "source": [
    "X_final.shape"
   ]
  },
  {
   "cell_type": "code",
   "execution_count": 121,
   "id": "ba651535",
   "metadata": {},
   "outputs": [
    {
     "name": "stdout",
     "output_type": "stream",
     "text": [
      "2/2 [==============================] - 0s 4ms/step\n"
     ]
    }
   ],
   "source": [
    "predict = model.predict(X_final)\n",
    "normal = scaller.inverse_transform(predict)"
   ]
  },
  {
   "cell_type": "code",
   "execution_count": null,
   "id": "679a3946",
   "metadata": {},
   "outputs": [],
   "source": []
  },
  {
   "cell_type": "code",
   "execution_count": 122,
   "id": "f5ac1857",
   "metadata": {},
   "outputs": [
    {
     "data": {
      "text/plain": [
       "0.5903151576492057"
      ]
     },
     "execution_count": 122,
     "metadata": {},
     "output_type": "execute_result"
    }
   ],
   "source": [
    "r2_score(test,normal)"
   ]
  },
  {
   "cell_type": "code",
   "execution_count": 124,
   "id": "c052cb59",
   "metadata": {},
   "outputs": [
    {
     "data": {
      "image/png": "[encoded data removed]",
      "text/plain": [
       "<Figure size 640x320 with 1 Axes>"
      ]
     },
     "metadata": {},
     "output_type": "display_data"
    }
   ],
   "source": [
    "plt.figure(figsize=(8,4), dpi=80, facecolor='w', edgecolor='k')\n",
    "plt.plot(test,color=\"orange\",label=\"Real value\")\n",
    "plt.plot(normal,color=\"c\",label=\"LSTM predicted result\")\n",
    "plt.legend()\n",
    "plt.xlabel(\"Days\")\n",
    "plt.ylabel(\"Values\")\n",
    "plt.grid(True)\n",
    "plt.show()"
   ]
  },
  {
   "cell_type": "code",
   "execution_count": null,
   "id": "2873b8d8",
   "metadata": {},
   "outputs": [],
   "source": []
  },
  {
   "cell_type": "code",
   "execution_count": 125,
   "id": "4fb4d358",
   "metadata": {},
   "outputs": [],
   "source": [
    "model2 = Sequential()\n",
    "model2.add(LSTM(10,activation='tanh',input_shape=(50,1),return_sequences=False))\n",
    "model2.add(Dense(1))\n",
    "model2.compile(optimizer='adam',loss='mean_squared_error')"
   ]
  },
  {
   "cell_type": "code",
   "execution_count": null,
   "id": "29effe72",
   "metadata": {},
   "outputs": [
    {
     "name": "stdout",
     "output_type": "stream",
     "text": [
      "Epoch 1/200\n",
      "290/290 [==============================] - 5s 11ms/step - loss: 0.0076\n",
      "Epoch 2/200\n",
      "290/290 [==============================] - 3s 11ms/step - loss: 0.0010\n",
      "Epoch 3/200\n",
      "290/290 [==============================] - 3s 11ms/step - loss: 8.7114e-04\n",
      "Epoch 4/200\n",
      "290/290 [==============================] - 3s 11ms/step - loss: 8.2528e-04\n",
      "Epoch 5/200\n",
      "290/290 [==============================] - 3s 11ms/step - loss: 7.1572e-04\n",
      "Epoch 6/200\n",
      "290/290 [==============================] - 3s 11ms/step - loss: 6.9900e-04\n",
      "Epoch 7/200\n",
      "290/290 [==============================] - 3s 10ms/step - loss: 6.2652e-04\n",
      "Epoch 8/200\n",
      "290/290 [==============================] - 3s 11ms/step - loss: 6.0311e-04\n",
      "Epoch 9/200\n",
      "290/290 [==============================] - 3s 11ms/step - loss: 5.8084e-04\n",
      "Epoch 10/200\n",
      "290/290 [==============================] - 3s 12ms/step - loss: 5.3561e-04\n",
      "Epoch 11/200\n",
      "290/290 [==============================] - 3s 11ms/step - loss: 5.1032e-04\n",
      "Epoch 12/200\n",
      "290/290 [==============================] - 3s 11ms/step - loss: 4.8096e-04\n",
      "Epoch 13/200\n",
      "290/290 [==============================] - 3s 11ms/step - loss: 4.6981e-04\n",
      "Epoch 14/200\n",
      "290/290 [==============================] - 3s 11ms/step - loss: 4.4808e-04\n",
      "Epoch 15/200\n",
      "290/290 [==============================] - 3s 11ms/step - loss: 4.3659e-04\n",
      "Epoch 16/200\n",
      "290/290 [==============================] - 3s 11ms/step - loss: 3.9451e-04\n",
      "Epoch 17/200\n",
      "290/290 [==============================] - 3s 11ms/step - loss: 3.9064e-04\n",
      "Epoch 18/200\n",
      "290/290 [==============================] - 3s 11ms/step - loss: 4.1264e-04\n",
      "Epoch 19/200\n",
      "290/290 [==============================] - 3s 11ms/step - loss: 3.7050e-04\n",
      "Epoch 20/200\n",
      "290/290 [==============================] - 3s 11ms/step - loss: 3.5282e-04\n",
      "Epoch 21/200\n",
      "290/290 [==============================] - 3s 11ms/step - loss: 3.4727e-04\n",
      "Epoch 22/200\n",
      "290/290 [==============================] - 3s 11ms/step - loss: 3.4551e-04\n",
      "Epoch 23/200\n",
      "290/290 [==============================] - 3s 11ms/step - loss: 3.3423e-04\n",
      "Epoch 24/200\n",
      "290/290 [==============================] - 3s 11ms/step - loss: 3.4460e-04\n",
      "Epoch 25/200\n",
      "290/290 [==============================] - 3s 11ms/step - loss: 3.4249e-04\n",
      "Epoch 26/200\n",
      "290/290 [==============================] - 3s 11ms/step - loss: 3.6183e-04\n",
      "Epoch 27/200\n",
      "290/290 [==============================] - 3s 11ms/step - loss: 3.1579e-04\n",
      "Epoch 28/200\n",
      "290/290 [==============================] - 3s 11ms/step - loss: 3.2997e-04\n",
      "Epoch 29/200\n",
      "290/290 [==============================] - 3s 11ms/step - loss: 3.1011e-04\n",
      "Epoch 30/200\n",
      "290/290 [==============================] - 3s 11ms/step - loss: 3.1698e-04\n",
      "Epoch 31/200\n",
      "290/290 [==============================] - 3s 11ms/step - loss: 3.1464e-04\n",
      "Epoch 32/200\n",
      "290/290 [==============================] - 3s 11ms/step - loss: 3.2168e-04\n",
      "Epoch 33/200\n",
      "290/290 [==============================] - 3s 11ms/step - loss: 3.4282e-04\n",
      "Epoch 34/200\n",
      "290/290 [==============================] - 3s 11ms/step - loss: 3.0615e-04\n",
      "Epoch 35/200\n",
      "290/290 [==============================] - 3s 11ms/step - loss: 2.9830e-04\n",
      "Epoch 36/200\n",
      "290/290 [==============================] - 3s 11ms/step - loss: 3.0202e-04\n",
      "Epoch 37/200\n",
      "290/290 [==============================] - 3s 11ms/step - loss: 2.8785e-04\n",
      "Epoch 38/200\n",
      "290/290 [==============================] - 3s 11ms/step - loss: 3.1749e-04\n",
      "Epoch 39/200\n",
      "290/290 [==============================] - 3s 11ms/step - loss: 3.0969e-04\n",
      "Epoch 40/200\n",
      "128/290 [============>.................] - ETA: 1s - loss: 2.1433e-04"
     ]
    }
   ],
   "source": [
    "model2.fit(X_train,y_train,batch_size=4,epochs=200)"
   ]
  },
  {
   "cell_type": "code",
   "execution_count": null,
   "id": "522680e4",
   "metadata": {},
   "outputs": [],
   "source": [
    "predict2 = model2.predict(X_final)\n",
    "normal2 = scaller.inverse_transfrom(predict2)"
   ]
  },
  {
   "cell_type": "code",
   "execution_count": null,
   "id": "e4dbeb05",
   "metadata": {},
   "outputs": [],
   "source": [
    "plt.figure(figsize=(8,4), dpi=80, facecolor='w', edgecolor='k')\n",
    "plt.plot(test,color=\"orange\",label=\"Real value\")\n",
    "plt.plot(normal2,color=\"c\",label=\"LSTM Modified predicted result\")\n",
    "plt.legend()\n",
    "plt.xlabel(\"Days\")\n",
    "plt.ylabel(\"Values\")\n",
    "plt.grid(True)\n",
    "plt.show()"
   ]
  },
  {
   "cell_type": "code",
   "execution_count": null,
   "id": "139854fa",
   "metadata": {},
   "outputs": [],
   "source": [
    "plt.figure(figsize=(8,4), dpi=80, facecolor='w', edgecolor='k')\n",
    "plt.plot(test,color=\"orange\",label=\"Real value\")\n",
    "plt.plot(normal2,color=\"c\",label=\"LSTM predicted result\")\n",
    "plt.legend()\n",
    "plt.xlabel(\"Days\")\n",
    "plt.ylabel(\"Values\")\n",
    "plt.grid(True)\n",
    "plt.show()"
   ]
  }
 ],
 "metadata": {
  "kernelspec": {
   "display_name": "Python 3 (ipykernel)",
   "language": "python",
   "name": "python3"
  },
  "language_info": {
   "codemirror_mode": {
    "name": "ipython",
    "version": 3
   },
   "file_extension": ".py",
   "mimetype": "text/x-python",
   "name": "python",
   "nbconvert_exporter": "python",
   "pygments_lexer": "ipython3",
   "version": "3.9.12"
  }
 },
 "nbformat": 4,
 "nbformat_minor": 5
}
